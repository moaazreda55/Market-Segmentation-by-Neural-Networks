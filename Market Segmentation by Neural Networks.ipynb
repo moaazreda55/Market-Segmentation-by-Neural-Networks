{
 "cells": [
  {
   "cell_type": "markdown",
   "id": "06b2108f",
   "metadata": {},
   "source": [
    "# My Libraries"
   ]
  },
  {
   "cell_type": "code",
   "execution_count": 1,
   "id": "cbea0568",
   "metadata": {},
   "outputs": [],
   "source": [
    "import numpy as np\n",
    "import pandas as pd\n",
    "import matplotlib.pyplot as plt\n",
    "import seaborn as sns\n",
    "import plotly.express as px\n",
    "import warnings\n",
    "warnings.filterwarnings(\"ignore\")\n",
    "import datetime as dt"
   ]
  },
  {
   "cell_type": "markdown",
   "id": "c72b5887",
   "metadata": {},
   "source": [
    "# Data Wrangling"
   ]
  },
  {
   "cell_type": "code",
   "execution_count": 2,
   "id": "0e744604",
   "metadata": {
    "scrolled": true
   },
   "outputs": [
    {
     "data": {
      "text/html": [
       "<div>\n",
       "<style scoped>\n",
       "    .dataframe tbody tr th:only-of-type {\n",
       "        vertical-align: middle;\n",
       "    }\n",
       "\n",
       "    .dataframe tbody tr th {\n",
       "        vertical-align: top;\n",
       "    }\n",
       "\n",
       "    .dataframe thead th {\n",
       "        text-align: right;\n",
       "    }\n",
       "</style>\n",
       "<table border=\"1\" class=\"dataframe\">\n",
       "  <thead>\n",
       "    <tr style=\"text-align: right;\">\n",
       "      <th></th>\n",
       "      <th>InvoiceNo</th>\n",
       "      <th>StockCode</th>\n",
       "      <th>Description</th>\n",
       "      <th>Quantity</th>\n",
       "      <th>InvoiceDate</th>\n",
       "      <th>UnitPrice</th>\n",
       "      <th>CustomerID</th>\n",
       "      <th>Country</th>\n",
       "    </tr>\n",
       "  </thead>\n",
       "  <tbody>\n",
       "    <tr>\n",
       "      <th>0</th>\n",
       "      <td>536365</td>\n",
       "      <td>85123A</td>\n",
       "      <td>WHITE HANGING HEART T-LIGHT HOLDER</td>\n",
       "      <td>6</td>\n",
       "      <td>2010-12-01 08:26:00</td>\n",
       "      <td>2.55</td>\n",
       "      <td>17850.0</td>\n",
       "      <td>United Kingdom</td>\n",
       "    </tr>\n",
       "    <tr>\n",
       "      <th>1</th>\n",
       "      <td>536365</td>\n",
       "      <td>71053</td>\n",
       "      <td>WHITE METAL LANTERN</td>\n",
       "      <td>6</td>\n",
       "      <td>2010-12-01 08:26:00</td>\n",
       "      <td>3.39</td>\n",
       "      <td>17850.0</td>\n",
       "      <td>United Kingdom</td>\n",
       "    </tr>\n",
       "    <tr>\n",
       "      <th>2</th>\n",
       "      <td>536365</td>\n",
       "      <td>84406B</td>\n",
       "      <td>CREAM CUPID HEARTS COAT HANGER</td>\n",
       "      <td>8</td>\n",
       "      <td>2010-12-01 08:26:00</td>\n",
       "      <td>2.75</td>\n",
       "      <td>17850.0</td>\n",
       "      <td>United Kingdom</td>\n",
       "    </tr>\n",
       "    <tr>\n",
       "      <th>3</th>\n",
       "      <td>536365</td>\n",
       "      <td>84029G</td>\n",
       "      <td>KNITTED UNION FLAG HOT WATER BOTTLE</td>\n",
       "      <td>6</td>\n",
       "      <td>2010-12-01 08:26:00</td>\n",
       "      <td>3.39</td>\n",
       "      <td>17850.0</td>\n",
       "      <td>United Kingdom</td>\n",
       "    </tr>\n",
       "    <tr>\n",
       "      <th>4</th>\n",
       "      <td>536365</td>\n",
       "      <td>84029E</td>\n",
       "      <td>RED WOOLLY HOTTIE WHITE HEART.</td>\n",
       "      <td>6</td>\n",
       "      <td>2010-12-01 08:26:00</td>\n",
       "      <td>3.39</td>\n",
       "      <td>17850.0</td>\n",
       "      <td>United Kingdom</td>\n",
       "    </tr>\n",
       "  </tbody>\n",
       "</table>\n",
       "</div>"
      ],
      "text/plain": [
       "  InvoiceNo StockCode                          Description  Quantity  \\\n",
       "0    536365    85123A   WHITE HANGING HEART T-LIGHT HOLDER         6   \n",
       "1    536365     71053                  WHITE METAL LANTERN         6   \n",
       "2    536365    84406B       CREAM CUPID HEARTS COAT HANGER         8   \n",
       "3    536365    84029G  KNITTED UNION FLAG HOT WATER BOTTLE         6   \n",
       "4    536365    84029E       RED WOOLLY HOTTIE WHITE HEART.         6   \n",
       "\n",
       "          InvoiceDate  UnitPrice  CustomerID         Country  \n",
       "0 2010-12-01 08:26:00       2.55     17850.0  United Kingdom  \n",
       "1 2010-12-01 08:26:00       3.39     17850.0  United Kingdom  \n",
       "2 2010-12-01 08:26:00       2.75     17850.0  United Kingdom  \n",
       "3 2010-12-01 08:26:00       3.39     17850.0  United Kingdom  \n",
       "4 2010-12-01 08:26:00       3.39     17850.0  United Kingdom  "
      ]
     },
     "execution_count": 2,
     "metadata": {},
     "output_type": "execute_result"
    }
   ],
   "source": [
    "df=pd.read_excel('D:/sql/Data set/Retail/Online Retail.xlsx')\n",
    "df.head()"
   ]
  },
  {
   "cell_type": "markdown",
   "id": "c8bcd36c",
   "metadata": {},
   "source": [
    "# Data Preparing"
   ]
  },
  {
   "cell_type": "markdown",
   "id": "207fd390",
   "metadata": {},
   "source": [
    "## changing all 0 unit price to the mode price for every category"
   ]
  },
  {
   "cell_type": "code",
   "execution_count": 3,
   "id": "3e671a20",
   "metadata": {
    "scrolled": false
   },
   "outputs": [],
   "source": [
    "zero_G=df.loc[(df['UnitPrice']==0)&(df['CustomerID'].notnull()==True),['Description']]"
   ]
  },
  {
   "cell_type": "code",
   "execution_count": 4,
   "id": "9244fd44",
   "metadata": {},
   "outputs": [],
   "source": [
    "a=list(zero_G['Description'])"
   ]
  },
  {
   "cell_type": "code",
   "execution_count": 5,
   "id": "6de3f334",
   "metadata": {},
   "outputs": [],
   "source": [
    "for i in a:\n",
    "    \n",
    "    description_match = df['Description'] == i\n",
    "    mode_price = df[description_match]['UnitPrice'].mode().iloc[0]\n",
    "    df.loc[description_match & (df['UnitPrice'] == 0), 'UnitPrice'] = mode_price"
   ]
  },
  {
   "cell_type": "markdown",
   "id": "ebc334b9",
   "metadata": {},
   "source": [
    "## adding total price column"
   ]
  },
  {
   "cell_type": "code",
   "execution_count": 6,
   "id": "a6695bb9",
   "metadata": {},
   "outputs": [],
   "source": [
    "df['TotalPrice']=df['UnitPrice']*df['Quantity']"
   ]
  },
  {
   "cell_type": "code",
   "execution_count": 7,
   "id": "8d7a2f52",
   "metadata": {},
   "outputs": [
    {
     "name": "stdout",
     "output_type": "stream",
     "text": [
      "<class 'pandas.core.frame.DataFrame'>\n",
      "RangeIndex: 541909 entries, 0 to 541908\n",
      "Data columns (total 9 columns):\n",
      " #   Column       Non-Null Count   Dtype         \n",
      "---  ------       --------------   -----         \n",
      " 0   InvoiceNo    541909 non-null  object        \n",
      " 1   StockCode    541909 non-null  object        \n",
      " 2   Description  540455 non-null  object        \n",
      " 3   Quantity     541909 non-null  int64         \n",
      " 4   InvoiceDate  541909 non-null  datetime64[ns]\n",
      " 5   UnitPrice    541909 non-null  float64       \n",
      " 6   CustomerID   406829 non-null  float64       \n",
      " 7   Country      541909 non-null  object        \n",
      " 8   TotalPrice   541909 non-null  float64       \n",
      "dtypes: datetime64[ns](1), float64(3), int64(1), object(4)\n",
      "memory usage: 37.2+ MB\n"
     ]
    }
   ],
   "source": [
    "df.info()"
   ]
  },
  {
   "cell_type": "markdown",
   "id": "b1af04bc",
   "metadata": {},
   "source": [
    "# Data Cleaning"
   ]
  },
  {
   "cell_type": "markdown",
   "id": "e49251df",
   "metadata": {},
   "source": [
    "## Removing non customer & cancelled transactions"
   ]
  },
  {
   "cell_type": "code",
   "execution_count": 8,
   "id": "6cc03ca9",
   "metadata": {
    "scrolled": true
   },
   "outputs": [],
   "source": [
    "df2=df.loc[(df['Quantity']>0)&(df['CustomerID'].notnull()==True)]"
   ]
  },
  {
   "cell_type": "code",
   "execution_count": 9,
   "id": "a1d4e072",
   "metadata": {},
   "outputs": [
    {
     "name": "stdout",
     "output_type": "stream",
     "text": [
      "<class 'pandas.core.frame.DataFrame'>\n",
      "Index: 397924 entries, 0 to 541908\n",
      "Data columns (total 9 columns):\n",
      " #   Column       Non-Null Count   Dtype         \n",
      "---  ------       --------------   -----         \n",
      " 0   InvoiceNo    397924 non-null  object        \n",
      " 1   StockCode    397924 non-null  object        \n",
      " 2   Description  397924 non-null  object        \n",
      " 3   Quantity     397924 non-null  int64         \n",
      " 4   InvoiceDate  397924 non-null  datetime64[ns]\n",
      " 5   UnitPrice    397924 non-null  float64       \n",
      " 6   CustomerID   397924 non-null  float64       \n",
      " 7   Country      397924 non-null  object        \n",
      " 8   TotalPrice   397924 non-null  float64       \n",
      "dtypes: datetime64[ns](1), float64(3), int64(1), object(4)\n",
      "memory usage: 30.4+ MB\n"
     ]
    }
   ],
   "source": [
    "df2.info()"
   ]
  },
  {
   "cell_type": "code",
   "execution_count": 10,
   "id": "e1931e96",
   "metadata": {
    "scrolled": true
   },
   "outputs": [
    {
     "data": {
      "text/html": [
       "<div>\n",
       "<style scoped>\n",
       "    .dataframe tbody tr th:only-of-type {\n",
       "        vertical-align: middle;\n",
       "    }\n",
       "\n",
       "    .dataframe tbody tr th {\n",
       "        vertical-align: top;\n",
       "    }\n",
       "\n",
       "    .dataframe thead th {\n",
       "        text-align: right;\n",
       "    }\n",
       "</style>\n",
       "<table border=\"1\" class=\"dataframe\">\n",
       "  <thead>\n",
       "    <tr style=\"text-align: right;\">\n",
       "      <th></th>\n",
       "      <th>Unique Values Count</th>\n",
       "    </tr>\n",
       "  </thead>\n",
       "  <tbody>\n",
       "    <tr>\n",
       "      <th>InvoiceNo</th>\n",
       "      <td>18536</td>\n",
       "    </tr>\n",
       "    <tr>\n",
       "      <th>StockCode</th>\n",
       "      <td>3665</td>\n",
       "    </tr>\n",
       "    <tr>\n",
       "      <th>Description</th>\n",
       "      <td>3877</td>\n",
       "    </tr>\n",
       "    <tr>\n",
       "      <th>Quantity</th>\n",
       "      <td>302</td>\n",
       "    </tr>\n",
       "    <tr>\n",
       "      <th>InvoiceDate</th>\n",
       "      <td>17286</td>\n",
       "    </tr>\n",
       "    <tr>\n",
       "      <th>UnitPrice</th>\n",
       "      <td>440</td>\n",
       "    </tr>\n",
       "    <tr>\n",
       "      <th>CustomerID</th>\n",
       "      <td>4339</td>\n",
       "    </tr>\n",
       "    <tr>\n",
       "      <th>Country</th>\n",
       "      <td>37</td>\n",
       "    </tr>\n",
       "    <tr>\n",
       "      <th>TotalPrice</th>\n",
       "      <td>2940</td>\n",
       "    </tr>\n",
       "  </tbody>\n",
       "</table>\n",
       "</div>"
      ],
      "text/plain": [
       "             Unique Values Count\n",
       "InvoiceNo                  18536\n",
       "StockCode                   3665\n",
       "Description                 3877\n",
       "Quantity                     302\n",
       "InvoiceDate                17286\n",
       "UnitPrice                    440\n",
       "CustomerID                  4339\n",
       "Country                       37\n",
       "TotalPrice                  2940"
      ]
     },
     "execution_count": 10,
     "metadata": {},
     "output_type": "execute_result"
    }
   ],
   "source": [
    "pd.DataFrame(df2.apply(lambda col: len(col.unique())),columns=[\"Unique Values Count\"])"
   ]
  },
  {
   "cell_type": "markdown",
   "id": "69e178fb",
   "metadata": {},
   "source": [
    "## droping unimportant feature"
   ]
  },
  {
   "cell_type": "code",
   "execution_count": 11,
   "id": "9f9ab5ae",
   "metadata": {},
   "outputs": [],
   "source": [
    "df2.drop(['InvoiceNo','Description'],axis=1,inplace=True)"
   ]
  },
  {
   "cell_type": "code",
   "execution_count": 12,
   "id": "d75c5944",
   "metadata": {},
   "outputs": [],
   "source": [
    "df2['StockCode'] = df2['StockCode'].astype(str)\n",
    "df2['Country'] = df2['Country'].astype(str)"
   ]
  },
  {
   "cell_type": "code",
   "execution_count": 13,
   "id": "134922be",
   "metadata": {},
   "outputs": [
    {
     "name": "stdout",
     "output_type": "stream",
     "text": [
      "<class 'pandas.core.frame.DataFrame'>\n",
      "Index: 397924 entries, 0 to 541908\n",
      "Data columns (total 7 columns):\n",
      " #   Column       Non-Null Count   Dtype         \n",
      "---  ------       --------------   -----         \n",
      " 0   StockCode    397924 non-null  object        \n",
      " 1   Quantity     397924 non-null  int64         \n",
      " 2   InvoiceDate  397924 non-null  datetime64[ns]\n",
      " 3   UnitPrice    397924 non-null  float64       \n",
      " 4   CustomerID   397924 non-null  float64       \n",
      " 5   Country      397924 non-null  object        \n",
      " 6   TotalPrice   397924 non-null  float64       \n",
      "dtypes: datetime64[ns](1), float64(3), int64(1), object(2)\n",
      "memory usage: 24.3+ MB\n"
     ]
    }
   ],
   "source": [
    "df2.info()"
   ]
  },
  {
   "cell_type": "code",
   "execution_count": 14,
   "id": "120b28e1",
   "metadata": {
    "scrolled": true
   },
   "outputs": [
    {
     "data": {
      "text/html": [
       "<div>\n",
       "<style scoped>\n",
       "    .dataframe tbody tr th:only-of-type {\n",
       "        vertical-align: middle;\n",
       "    }\n",
       "\n",
       "    .dataframe tbody tr th {\n",
       "        vertical-align: top;\n",
       "    }\n",
       "\n",
       "    .dataframe thead th {\n",
       "        text-align: right;\n",
       "    }\n",
       "</style>\n",
       "<table border=\"1\" class=\"dataframe\">\n",
       "  <thead>\n",
       "    <tr style=\"text-align: right;\">\n",
       "      <th></th>\n",
       "      <th>Unique Values Count</th>\n",
       "    </tr>\n",
       "  </thead>\n",
       "  <tbody>\n",
       "    <tr>\n",
       "      <th>StockCode</th>\n",
       "      <td>3665</td>\n",
       "    </tr>\n",
       "    <tr>\n",
       "      <th>Quantity</th>\n",
       "      <td>302</td>\n",
       "    </tr>\n",
       "    <tr>\n",
       "      <th>InvoiceDate</th>\n",
       "      <td>17286</td>\n",
       "    </tr>\n",
       "    <tr>\n",
       "      <th>UnitPrice</th>\n",
       "      <td>440</td>\n",
       "    </tr>\n",
       "    <tr>\n",
       "      <th>CustomerID</th>\n",
       "      <td>4339</td>\n",
       "    </tr>\n",
       "    <tr>\n",
       "      <th>Country</th>\n",
       "      <td>37</td>\n",
       "    </tr>\n",
       "    <tr>\n",
       "      <th>TotalPrice</th>\n",
       "      <td>2940</td>\n",
       "    </tr>\n",
       "  </tbody>\n",
       "</table>\n",
       "</div>"
      ],
      "text/plain": [
       "             Unique Values Count\n",
       "StockCode                   3665\n",
       "Quantity                     302\n",
       "InvoiceDate                17286\n",
       "UnitPrice                    440\n",
       "CustomerID                  4339\n",
       "Country                       37\n",
       "TotalPrice                  2940"
      ]
     },
     "execution_count": 14,
     "metadata": {},
     "output_type": "execute_result"
    }
   ],
   "source": [
    "pd.DataFrame(df2.apply(lambda col: len(col.unique())),columns=[\"Unique Values Count\"])"
   ]
  },
  {
   "cell_type": "code",
   "execution_count": 15,
   "id": "a3780740",
   "metadata": {},
   "outputs": [
    {
     "data": {
      "text/plain": [
       "Timestamp('2011-12-09 12:50:00')"
      ]
     },
     "execution_count": 15,
     "metadata": {},
     "output_type": "execute_result"
    }
   ],
   "source": [
    "df['InvoiceDate'].max()"
   ]
  },
  {
   "cell_type": "code",
   "execution_count": 16,
   "id": "b9a95a2d",
   "metadata": {},
   "outputs": [],
   "source": [
    "today_date = dt.datetime(2011, 12, 9)"
   ]
  },
  {
   "cell_type": "code",
   "execution_count": 17,
   "id": "caf8087a",
   "metadata": {},
   "outputs": [],
   "source": [
    "df2['InvoiceDate'] = (today_date - df2['InvoiceDate']).dt.days"
   ]
  },
  {
   "cell_type": "code",
   "execution_count": 18,
   "id": "592395f1",
   "metadata": {
    "scrolled": true
   },
   "outputs": [
    {
     "name": "stdout",
     "output_type": "stream",
     "text": [
      "StockCode      0\n",
      "Quantity       0\n",
      "InvoiceDate    0\n",
      "UnitPrice      0\n",
      "CustomerID     0\n",
      "Country        0\n",
      "TotalPrice     0\n",
      "dtype: int64\n"
     ]
    }
   ],
   "source": [
    "print(df2.isnull().sum())"
   ]
  },
  {
   "cell_type": "code",
   "execution_count": 19,
   "id": "ab66f867",
   "metadata": {},
   "outputs": [
    {
     "data": {
      "text/plain": [
       "6604"
      ]
     },
     "execution_count": 19,
     "metadata": {},
     "output_type": "execute_result"
    }
   ],
   "source": [
    "df2.duplicated().sum()"
   ]
  },
  {
   "cell_type": "code",
   "execution_count": 20,
   "id": "2745230c",
   "metadata": {},
   "outputs": [],
   "source": [
    "df2.drop_duplicates(inplace = True)"
   ]
  },
  {
   "cell_type": "code",
   "execution_count": 21,
   "id": "e4ae3b9e",
   "metadata": {
    "scrolled": true
   },
   "outputs": [
    {
     "name": "stdout",
     "output_type": "stream",
     "text": [
      "WARNING:tensorflow:From D:\\Anaconda_3\\Lib\\site-packages\\keras\\src\\losses.py:2976: The name tf.losses.sparse_softmax_cross_entropy is deprecated. Please use tf.compat.v1.losses.sparse_softmax_cross_entropy instead.\n",
      "\n"
     ]
    }
   ],
   "source": [
    "import tensorflow as tf\n",
    "from sklearn.model_selection import train_test_split\n",
    "from sklearn import preprocessing\n",
    "from sklearn.preprocessing import LabelEncoder\n",
    "from sklearn.preprocessing import StandardScaler"
   ]
  },
  {
   "cell_type": "code",
   "execution_count": 22,
   "id": "267eb537",
   "metadata": {},
   "outputs": [],
   "source": [
    "label_encoder = LabelEncoder()\n",
    "df2['StockCode'] = label_encoder.fit_transform(df2['StockCode'])\n",
    "df2['Country'] = label_encoder.fit_transform(df2['Country'])\n"
   ]
  },
  {
   "cell_type": "markdown",
   "id": "36641f2c",
   "metadata": {},
   "source": [
    "## grouping customer data"
   ]
  },
  {
   "cell_type": "code",
   "execution_count": 23,
   "id": "a839f3fd",
   "metadata": {
    "scrolled": true
   },
   "outputs": [
    {
     "data": {
      "text/html": [
       "<div>\n",
       "<style scoped>\n",
       "    .dataframe tbody tr th:only-of-type {\n",
       "        vertical-align: middle;\n",
       "    }\n",
       "\n",
       "    .dataframe tbody tr th {\n",
       "        vertical-align: top;\n",
       "    }\n",
       "\n",
       "    .dataframe thead th {\n",
       "        text-align: right;\n",
       "    }\n",
       "</style>\n",
       "<table border=\"1\" class=\"dataframe\">\n",
       "  <thead>\n",
       "    <tr style=\"text-align: right;\">\n",
       "      <th></th>\n",
       "      <th>InvoiceDate</th>\n",
       "      <th>Quantity</th>\n",
       "      <th>TotalPrice</th>\n",
       "      <th>Country</th>\n",
       "    </tr>\n",
       "    <tr>\n",
       "      <th>CustomerID</th>\n",
       "      <th></th>\n",
       "      <th></th>\n",
       "      <th></th>\n",
       "      <th></th>\n",
       "    </tr>\n",
       "  </thead>\n",
       "  <tbody>\n",
       "    <tr>\n",
       "      <th>12346.0</th>\n",
       "      <td>324</td>\n",
       "      <td>74215</td>\n",
       "      <td>77183.60</td>\n",
       "      <td>35</td>\n",
       "    </tr>\n",
       "    <tr>\n",
       "      <th>12347.0</th>\n",
       "      <td>1</td>\n",
       "      <td>2458</td>\n",
       "      <td>4310.00</td>\n",
       "      <td>16</td>\n",
       "    </tr>\n",
       "    <tr>\n",
       "      <th>12348.0</th>\n",
       "      <td>74</td>\n",
       "      <td>2341</td>\n",
       "      <td>1797.24</td>\n",
       "      <td>12</td>\n",
       "    </tr>\n",
       "    <tr>\n",
       "      <th>12349.0</th>\n",
       "      <td>17</td>\n",
       "      <td>631</td>\n",
       "      <td>1757.55</td>\n",
       "      <td>18</td>\n",
       "    </tr>\n",
       "    <tr>\n",
       "      <th>12350.0</th>\n",
       "      <td>309</td>\n",
       "      <td>197</td>\n",
       "      <td>334.40</td>\n",
       "      <td>24</td>\n",
       "    </tr>\n",
       "    <tr>\n",
       "      <th>...</th>\n",
       "      <td>...</td>\n",
       "      <td>...</td>\n",
       "      <td>...</td>\n",
       "      <td>...</td>\n",
       "    </tr>\n",
       "    <tr>\n",
       "      <th>18280.0</th>\n",
       "      <td>276</td>\n",
       "      <td>45</td>\n",
       "      <td>180.60</td>\n",
       "      <td>35</td>\n",
       "    </tr>\n",
       "    <tr>\n",
       "      <th>18281.0</th>\n",
       "      <td>179</td>\n",
       "      <td>54</td>\n",
       "      <td>80.82</td>\n",
       "      <td>35</td>\n",
       "    </tr>\n",
       "    <tr>\n",
       "      <th>18282.0</th>\n",
       "      <td>6</td>\n",
       "      <td>103</td>\n",
       "      <td>178.05</td>\n",
       "      <td>35</td>\n",
       "    </tr>\n",
       "    <tr>\n",
       "      <th>18283.0</th>\n",
       "      <td>2</td>\n",
       "      <td>1357</td>\n",
       "      <td>2045.53</td>\n",
       "      <td>35</td>\n",
       "    </tr>\n",
       "    <tr>\n",
       "      <th>18287.0</th>\n",
       "      <td>41</td>\n",
       "      <td>1586</td>\n",
       "      <td>1837.28</td>\n",
       "      <td>35</td>\n",
       "    </tr>\n",
       "  </tbody>\n",
       "</table>\n",
       "<p>4339 rows × 4 columns</p>\n",
       "</div>"
      ],
      "text/plain": [
       "            InvoiceDate  Quantity  TotalPrice  Country\n",
       "CustomerID                                            \n",
       "12346.0             324     74215    77183.60       35\n",
       "12347.0               1      2458     4310.00       16\n",
       "12348.0              74      2341     1797.24       12\n",
       "12349.0              17       631     1757.55       18\n",
       "12350.0             309       197      334.40       24\n",
       "...                 ...       ...         ...      ...\n",
       "18280.0             276        45      180.60       35\n",
       "18281.0             179        54       80.82       35\n",
       "18282.0               6       103      178.05       35\n",
       "18283.0               2      1357     2045.53       35\n",
       "18287.0              41      1586     1837.28       35\n",
       "\n",
       "[4339 rows x 4 columns]"
      ]
     },
     "execution_count": 23,
     "metadata": {},
     "output_type": "execute_result"
    }
   ],
   "source": [
    "customer_data = df2.groupby('CustomerID').agg({'InvoiceDate': lambda date: date.min(),\n",
    "                                    'Quantity': lambda num: num.sum(),\n",
    "                                    'TotalPrice': lambda num: num.sum(),\n",
    "                                    'Country': lambda num: num.mode()})                                  \n",
    "customer_data"
   ]
  },
  {
   "cell_type": "code",
   "execution_count": 24,
   "id": "cca76719",
   "metadata": {
    "scrolled": true
   },
   "outputs": [
    {
     "data": {
      "text/html": [
       "<div>\n",
       "<style scoped>\n",
       "    .dataframe tbody tr th:only-of-type {\n",
       "        vertical-align: middle;\n",
       "    }\n",
       "\n",
       "    .dataframe tbody tr th {\n",
       "        vertical-align: top;\n",
       "    }\n",
       "\n",
       "    .dataframe thead th {\n",
       "        text-align: right;\n",
       "    }\n",
       "</style>\n",
       "<table border=\"1\" class=\"dataframe\">\n",
       "  <thead>\n",
       "    <tr style=\"text-align: right;\">\n",
       "      <th></th>\n",
       "      <th>CustomerID</th>\n",
       "      <th>InvoiceDate</th>\n",
       "      <th>Quantity</th>\n",
       "      <th>TotalPrice</th>\n",
       "      <th>Country</th>\n",
       "    </tr>\n",
       "  </thead>\n",
       "  <tbody>\n",
       "    <tr>\n",
       "      <th>0</th>\n",
       "      <td>12346.0</td>\n",
       "      <td>324</td>\n",
       "      <td>74215</td>\n",
       "      <td>77183.60</td>\n",
       "      <td>35</td>\n",
       "    </tr>\n",
       "    <tr>\n",
       "      <th>1</th>\n",
       "      <td>12347.0</td>\n",
       "      <td>1</td>\n",
       "      <td>2458</td>\n",
       "      <td>4310.00</td>\n",
       "      <td>16</td>\n",
       "    </tr>\n",
       "    <tr>\n",
       "      <th>2</th>\n",
       "      <td>12348.0</td>\n",
       "      <td>74</td>\n",
       "      <td>2341</td>\n",
       "      <td>1797.24</td>\n",
       "      <td>12</td>\n",
       "    </tr>\n",
       "    <tr>\n",
       "      <th>3</th>\n",
       "      <td>12349.0</td>\n",
       "      <td>17</td>\n",
       "      <td>631</td>\n",
       "      <td>1757.55</td>\n",
       "      <td>18</td>\n",
       "    </tr>\n",
       "    <tr>\n",
       "      <th>4</th>\n",
       "      <td>12350.0</td>\n",
       "      <td>309</td>\n",
       "      <td>197</td>\n",
       "      <td>334.40</td>\n",
       "      <td>24</td>\n",
       "    </tr>\n",
       "    <tr>\n",
       "      <th>...</th>\n",
       "      <td>...</td>\n",
       "      <td>...</td>\n",
       "      <td>...</td>\n",
       "      <td>...</td>\n",
       "      <td>...</td>\n",
       "    </tr>\n",
       "    <tr>\n",
       "      <th>4334</th>\n",
       "      <td>18280.0</td>\n",
       "      <td>276</td>\n",
       "      <td>45</td>\n",
       "      <td>180.60</td>\n",
       "      <td>35</td>\n",
       "    </tr>\n",
       "    <tr>\n",
       "      <th>4335</th>\n",
       "      <td>18281.0</td>\n",
       "      <td>179</td>\n",
       "      <td>54</td>\n",
       "      <td>80.82</td>\n",
       "      <td>35</td>\n",
       "    </tr>\n",
       "    <tr>\n",
       "      <th>4336</th>\n",
       "      <td>18282.0</td>\n",
       "      <td>6</td>\n",
       "      <td>103</td>\n",
       "      <td>178.05</td>\n",
       "      <td>35</td>\n",
       "    </tr>\n",
       "    <tr>\n",
       "      <th>4337</th>\n",
       "      <td>18283.0</td>\n",
       "      <td>2</td>\n",
       "      <td>1357</td>\n",
       "      <td>2045.53</td>\n",
       "      <td>35</td>\n",
       "    </tr>\n",
       "    <tr>\n",
       "      <th>4338</th>\n",
       "      <td>18287.0</td>\n",
       "      <td>41</td>\n",
       "      <td>1586</td>\n",
       "      <td>1837.28</td>\n",
       "      <td>35</td>\n",
       "    </tr>\n",
       "  </tbody>\n",
       "</table>\n",
       "<p>4339 rows × 5 columns</p>\n",
       "</div>"
      ],
      "text/plain": [
       "      CustomerID  InvoiceDate  Quantity  TotalPrice  Country\n",
       "0        12346.0          324     74215    77183.60       35\n",
       "1        12347.0            1      2458     4310.00       16\n",
       "2        12348.0           74      2341     1797.24       12\n",
       "3        12349.0           17       631     1757.55       18\n",
       "4        12350.0          309       197      334.40       24\n",
       "...          ...          ...       ...         ...      ...\n",
       "4334     18280.0          276        45      180.60       35\n",
       "4335     18281.0          179        54       80.82       35\n",
       "4336     18282.0            6       103      178.05       35\n",
       "4337     18283.0            2      1357     2045.53       35\n",
       "4338     18287.0           41      1586     1837.28       35\n",
       "\n",
       "[4339 rows x 5 columns]"
      ]
     },
     "execution_count": 24,
     "metadata": {},
     "output_type": "execute_result"
    }
   ],
   "source": [
    "customer_data.reset_index(inplace=True)\n",
    "customer_data"
   ]
  },
  {
   "cell_type": "markdown",
   "id": "3ec46290",
   "metadata": {},
   "source": [
    "## Removing outliers"
   ]
  },
  {
   "cell_type": "code",
   "execution_count": 25,
   "id": "057e2e0d",
   "metadata": {},
   "outputs": [],
   "source": [
    "Q1 = customer_data.quantile(0.25)\n",
    "Q3 = customer_data.quantile(0.75)\n",
    "IQR = Q3 - Q1\n",
    "outliers = ((customer_data < (Q1 - 1.5 * IQR)) | (customer_data > (Q3 + 1.5 * IQR))).any(axis=1)\n",
    "cleaned_data = customer_data[~outliers]"
   ]
  },
  {
   "cell_type": "code",
   "execution_count": 26,
   "id": "b596dc33",
   "metadata": {
    "scrolled": true
   },
   "outputs": [
    {
     "data": {
      "image/png": "[encoded data removed]",
      "text/plain": [
       "<Figure size 640x480 with 2 Axes>"
      ]
     },
     "metadata": {},
     "output_type": "display_data"
    }
   ],
   "source": [
    "correlation_matrix = df2.corr()\n",
    "sns.heatmap(correlation_matrix, annot=True)\n",
    "plt.show()"
   ]
  },
  {
   "cell_type": "code",
   "execution_count": 27,
   "id": "2fa8349d",
   "metadata": {
    "scrolled": false
   },
   "outputs": [
    {
     "data": {
      "text/html": [
       "<div>\n",
       "<style scoped>\n",
       "    .dataframe tbody tr th:only-of-type {\n",
       "        vertical-align: middle;\n",
       "    }\n",
       "\n",
       "    .dataframe tbody tr th {\n",
       "        vertical-align: top;\n",
       "    }\n",
       "\n",
       "    .dataframe thead th {\n",
       "        text-align: right;\n",
       "    }\n",
       "</style>\n",
       "<table border=\"1\" class=\"dataframe\">\n",
       "  <thead>\n",
       "    <tr style=\"text-align: right;\">\n",
       "      <th></th>\n",
       "      <th>CustomerID</th>\n",
       "      <th>InvoiceDate</th>\n",
       "      <th>Quantity</th>\n",
       "      <th>TotalPrice</th>\n",
       "      <th>Country</th>\n",
       "    </tr>\n",
       "  </thead>\n",
       "  <tbody>\n",
       "    <tr>\n",
       "      <th>372</th>\n",
       "      <td>12820.0</td>\n",
       "      <td>2</td>\n",
       "      <td>722</td>\n",
       "      <td>942.34</td>\n",
       "      <td>35</td>\n",
       "    </tr>\n",
       "    <tr>\n",
       "      <th>373</th>\n",
       "      <td>12821.0</td>\n",
       "      <td>213</td>\n",
       "      <td>70</td>\n",
       "      <td>92.72</td>\n",
       "      <td>35</td>\n",
       "    </tr>\n",
       "    <tr>\n",
       "      <th>374</th>\n",
       "      <td>12822.0</td>\n",
       "      <td>69</td>\n",
       "      <td>550</td>\n",
       "      <td>948.88</td>\n",
       "      <td>35</td>\n",
       "    </tr>\n",
       "    <tr>\n",
       "      <th>375</th>\n",
       "      <td>12823.0</td>\n",
       "      <td>73</td>\n",
       "      <td>230</td>\n",
       "      <td>1759.50</td>\n",
       "      <td>35</td>\n",
       "    </tr>\n",
       "    <tr>\n",
       "      <th>376</th>\n",
       "      <td>12824.0</td>\n",
       "      <td>58</td>\n",
       "      <td>232</td>\n",
       "      <td>397.12</td>\n",
       "      <td>35</td>\n",
       "    </tr>\n",
       "    <tr>\n",
       "      <th>...</th>\n",
       "      <td>...</td>\n",
       "      <td>...</td>\n",
       "      <td>...</td>\n",
       "      <td>...</td>\n",
       "      <td>...</td>\n",
       "    </tr>\n",
       "    <tr>\n",
       "      <th>4334</th>\n",
       "      <td>18280.0</td>\n",
       "      <td>276</td>\n",
       "      <td>45</td>\n",
       "      <td>180.60</td>\n",
       "      <td>35</td>\n",
       "    </tr>\n",
       "    <tr>\n",
       "      <th>4335</th>\n",
       "      <td>18281.0</td>\n",
       "      <td>179</td>\n",
       "      <td>54</td>\n",
       "      <td>80.82</td>\n",
       "      <td>35</td>\n",
       "    </tr>\n",
       "    <tr>\n",
       "      <th>4336</th>\n",
       "      <td>18282.0</td>\n",
       "      <td>6</td>\n",
       "      <td>103</td>\n",
       "      <td>178.05</td>\n",
       "      <td>35</td>\n",
       "    </tr>\n",
       "    <tr>\n",
       "      <th>4337</th>\n",
       "      <td>18283.0</td>\n",
       "      <td>2</td>\n",
       "      <td>1357</td>\n",
       "      <td>2045.53</td>\n",
       "      <td>35</td>\n",
       "    </tr>\n",
       "    <tr>\n",
       "      <th>4338</th>\n",
       "      <td>18287.0</td>\n",
       "      <td>41</td>\n",
       "      <td>1586</td>\n",
       "      <td>1837.28</td>\n",
       "      <td>35</td>\n",
       "    </tr>\n",
       "  </tbody>\n",
       "</table>\n",
       "<p>3386 rows × 5 columns</p>\n",
       "</div>"
      ],
      "text/plain": [
       "      CustomerID  InvoiceDate  Quantity  TotalPrice  Country\n",
       "372      12820.0            2       722      942.34       35\n",
       "373      12821.0          213        70       92.72       35\n",
       "374      12822.0           69       550      948.88       35\n",
       "375      12823.0           73       230     1759.50       35\n",
       "376      12824.0           58       232      397.12       35\n",
       "...          ...          ...       ...         ...      ...\n",
       "4334     18280.0          276        45      180.60       35\n",
       "4335     18281.0          179        54       80.82       35\n",
       "4336     18282.0            6       103      178.05       35\n",
       "4337     18283.0            2      1357     2045.53       35\n",
       "4338     18287.0           41      1586     1837.28       35\n",
       "\n",
       "[3386 rows x 5 columns]"
      ]
     },
     "execution_count": 27,
     "metadata": {},
     "output_type": "execute_result"
    }
   ],
   "source": [
    "cleaned_data"
   ]
  },
  {
   "cell_type": "code",
   "execution_count": 28,
   "id": "274f2fe5",
   "metadata": {},
   "outputs": [
    {
     "name": "stdout",
     "output_type": "stream",
     "text": [
      "CustomerID     0\n",
      "InvoiceDate    0\n",
      "Quantity       0\n",
      "TotalPrice     0\n",
      "Country        0\n",
      "dtype: int64\n"
     ]
    }
   ],
   "source": [
    "print(customer_data.isnull().sum())"
   ]
  },
  {
   "cell_type": "code",
   "execution_count": null,
   "id": "e1748ea6",
   "metadata": {},
   "outputs": [],
   "source": []
  },
  {
   "cell_type": "markdown",
   "id": "87f2fcda",
   "metadata": {},
   "source": [
    "# Customer Segmentation by Neural Networks"
   ]
  },
  {
   "cell_type": "code",
   "execution_count": 29,
   "id": "2acb9c34",
   "metadata": {},
   "outputs": [
    {
     "data": {
      "text/plain": [
       "372    12820.0\n",
       "373    12821.0\n",
       "374    12822.0\n",
       "375    12823.0\n",
       "376    12824.0\n",
       "Name: CustomerID, dtype: float64"
      ]
     },
     "execution_count": 29,
     "metadata": {},
     "output_type": "execute_result"
    }
   ],
   "source": [
    "X=cleaned_data.drop(['CustomerID'],axis=1)\n",
    "y=cleaned_data['CustomerID']\n",
    "y.head()"
   ]
  },
  {
   "cell_type": "code",
   "execution_count": 30,
   "id": "d666f14c",
   "metadata": {},
   "outputs": [],
   "source": [
    "X_train,X_test,y_train,y_test=train_test_split(X,y,test_size=0.3)"
   ]
  },
  {
   "cell_type": "code",
   "execution_count": 31,
   "id": "61d7a9aa",
   "metadata": {
    "scrolled": true
   },
   "outputs": [],
   "source": [
    "X_train=X_train.astype(np.float32)\n",
    "X_test=X_test.astype(np.float32)"
   ]
  },
  {
   "cell_type": "code",
   "execution_count": 33,
   "id": "002d2788",
   "metadata": {},
   "outputs": [],
   "source": [
    "cleaned_data=cleaned_data.astype(np.float32)"
   ]
  },
  {
   "cell_type": "code",
   "execution_count": 38,
   "id": "a57868f3",
   "metadata": {},
   "outputs": [
    {
     "name": "stdout",
     "output_type": "stream",
     "text": [
      "WARNING:tensorflow:From D:\\Anaconda_3\\Lib\\site-packages\\keras\\src\\backend.py:1398: The name tf.executing_eagerly_outside_functions is deprecated. Please use tf.compat.v1.executing_eagerly_outside_functions instead.\n",
      "\n",
      "WARNING:tensorflow:From D:\\Anaconda_3\\Lib\\site-packages\\keras\\src\\optimizers\\__init__.py:309: The name tf.train.Optimizer is deprecated. Please use tf.compat.v1.train.Optimizer instead.\n",
      "\n"
     ]
    }
   ],
   "source": [
    "from keras.layers import Input, Dense\n",
    "from keras.models import Model\n",
    "\n",
    "\n",
    "input_layer = Input(shape=(4,))\n",
    "encoded = Dense(4, activation='relu')(input_layer)\n",
    "decoded = Dense(4, activation='sigmoid')(encoded)\n",
    "\n",
    "autoencoder = Model(input_layer,decoded)\n",
    "autoencoder.compile(optimizer='sgd', loss='mse')\n"
   ]
  },
  {
   "cell_type": "code",
   "execution_count": 39,
   "id": "3e9631c5",
   "metadata": {},
   "outputs": [
    {
     "name": "stdout",
     "output_type": "stream",
     "text": [
      "Epoch 1/100\n",
      "WARNING:tensorflow:From D:\\Anaconda_3\\Lib\\site-packages\\keras\\src\\utils\\tf_utils.py:492: The name tf.ragged.RaggedTensorValue is deprecated. Please use tf.compat.v1.ragged.RaggedTensorValue instead.\n",
      "\n",
      "10/10 [==============================] - 1s 42ms/step - loss: 218798992.0000 - val_loss: 305159680.0000\n",
      "Epoch 2/100\n",
      "10/10 [==============================] - 0s 11ms/step - loss: 218797152.0000 - val_loss: 305159680.0000\n",
      "Epoch 3/100\n",
      "10/10 [==============================] - 0s 13ms/step - loss: 218797152.0000 - val_loss: 305159680.0000\n",
      "Epoch 4/100\n",
      "10/10 [==============================] - 0s 14ms/step - loss: 218797136.0000 - val_loss: 305159680.0000\n",
      "Epoch 5/100\n",
      "10/10 [==============================] - 0s 13ms/step - loss: 218797152.0000 - val_loss: 305159680.0000\n",
      "Epoch 6/100\n",
      "10/10 [==============================] - 0s 12ms/step - loss: 218797152.0000 - val_loss: 305159680.0000\n",
      "Epoch 7/100\n",
      "10/10 [==============================] - 0s 12ms/step - loss: 218797152.0000 - val_loss: 305159680.0000\n",
      "Epoch 8/100\n",
      "10/10 [==============================] - 0s 11ms/step - loss: 218797136.0000 - val_loss: 305159680.0000\n",
      "Epoch 9/100\n",
      "10/10 [==============================] - 0s 13ms/step - loss: 218797152.0000 - val_loss: 305159680.0000\n",
      "Epoch 10/100\n",
      "10/10 [==============================] - 0s 11ms/step - loss: 218797152.0000 - val_loss: 305159680.0000\n",
      "Epoch 11/100\n",
      "10/10 [==============================] - 0s 12ms/step - loss: 218797168.0000 - val_loss: 305159680.0000\n",
      "Epoch 12/100\n",
      "10/10 [==============================] - 0s 13ms/step - loss: 218797152.0000 - val_loss: 305159680.0000\n",
      "Epoch 13/100\n",
      "10/10 [==============================] - 0s 12ms/step - loss: 218797152.0000 - val_loss: 305159680.0000\n",
      "Epoch 14/100\n",
      "10/10 [==============================] - 0s 12ms/step - loss: 218797136.0000 - val_loss: 305159680.0000\n",
      "Epoch 15/100\n",
      "10/10 [==============================] - 0s 12ms/step - loss: 218797152.0000 - val_loss: 305159680.0000\n",
      "Epoch 16/100\n",
      "10/10 [==============================] - 0s 13ms/step - loss: 218797152.0000 - val_loss: 305159680.0000\n",
      "Epoch 17/100\n",
      "10/10 [==============================] - 0s 14ms/step - loss: 218797168.0000 - val_loss: 305159680.0000\n",
      "Epoch 18/100\n",
      "10/10 [==============================] - 0s 11ms/step - loss: 218797152.0000 - val_loss: 305159680.0000\n",
      "Epoch 19/100\n",
      "10/10 [==============================] - 0s 13ms/step - loss: 218797152.0000 - val_loss: 305159680.0000\n",
      "Epoch 20/100\n",
      "10/10 [==============================] - 0s 12ms/step - loss: 218797152.0000 - val_loss: 305159680.0000\n",
      "Epoch 21/100\n",
      "10/10 [==============================] - 0s 13ms/step - loss: 218797152.0000 - val_loss: 305159680.0000\n",
      "Epoch 22/100\n",
      "10/10 [==============================] - 0s 11ms/step - loss: 218797152.0000 - val_loss: 305159680.0000\n",
      "Epoch 23/100\n",
      "10/10 [==============================] - 0s 11ms/step - loss: 218797152.0000 - val_loss: 305159680.0000\n",
      "Epoch 24/100\n",
      "10/10 [==============================] - 0s 11ms/step - loss: 218797152.0000 - val_loss: 305159680.0000\n",
      "Epoch 25/100\n",
      "10/10 [==============================] - 0s 12ms/step - loss: 218797152.0000 - val_loss: 305159680.0000\n",
      "Epoch 26/100\n",
      "10/10 [==============================] - 0s 12ms/step - loss: 218797120.0000 - val_loss: 305159680.0000\n",
      "Epoch 27/100\n",
      "10/10 [==============================] - 0s 11ms/step - loss: 218797152.0000 - val_loss: 305159680.0000\n",
      "Epoch 28/100\n",
      "10/10 [==============================] - 0s 12ms/step - loss: 218797168.0000 - val_loss: 305159680.0000\n",
      "Epoch 29/100\n",
      "10/10 [==============================] - 0s 15ms/step - loss: 218797136.0000 - val_loss: 305159680.0000\n",
      "Epoch 30/100\n",
      "10/10 [==============================] - 0s 11ms/step - loss: 218797152.0000 - val_loss: 305159680.0000\n",
      "Epoch 31/100\n",
      "10/10 [==============================] - 0s 11ms/step - loss: 218797152.0000 - val_loss: 305159680.0000\n",
      "Epoch 32/100\n",
      "10/10 [==============================] - 0s 11ms/step - loss: 218797136.0000 - val_loss: 305159680.0000\n",
      "Epoch 33/100\n",
      "10/10 [==============================] - 0s 13ms/step - loss: 218797152.0000 - val_loss: 305159680.0000\n",
      "Epoch 34/100\n",
      "10/10 [==============================] - 0s 11ms/step - loss: 218797136.0000 - val_loss: 305159680.0000\n",
      "Epoch 35/100\n",
      "10/10 [==============================] - 0s 11ms/step - loss: 218797168.0000 - val_loss: 305159680.0000\n",
      "Epoch 36/100\n",
      "10/10 [==============================] - 0s 11ms/step - loss: 218797152.0000 - val_loss: 305159680.0000\n",
      "Epoch 37/100\n",
      "10/10 [==============================] - 0s 12ms/step - loss: 218797136.0000 - val_loss: 305159680.0000\n",
      "Epoch 38/100\n",
      "10/10 [==============================] - 0s 12ms/step - loss: 218797152.0000 - val_loss: 305159680.0000\n",
      "Epoch 39/100\n",
      "10/10 [==============================] - 0s 11ms/step - loss: 218797152.0000 - val_loss: 305159680.0000\n",
      "Epoch 40/100\n",
      "10/10 [==============================] - 0s 14ms/step - loss: 218797168.0000 - val_loss: 305159680.0000\n",
      "Epoch 41/100\n",
      "10/10 [==============================] - 0s 14ms/step - loss: 218797152.0000 - val_loss: 305159680.0000\n",
      "Epoch 42/100\n",
      "10/10 [==============================] - 0s 13ms/step - loss: 218797152.0000 - val_loss: 305159680.0000\n",
      "Epoch 43/100\n",
      "10/10 [==============================] - 0s 12ms/step - loss: 218797136.0000 - val_loss: 305159680.0000\n",
      "Epoch 44/100\n",
      "10/10 [==============================] - 0s 11ms/step - loss: 218797152.0000 - val_loss: 305159680.0000\n",
      "Epoch 45/100\n",
      "10/10 [==============================] - 0s 13ms/step - loss: 218797168.0000 - val_loss: 305159680.0000\n",
      "Epoch 46/100\n",
      "10/10 [==============================] - 0s 11ms/step - loss: 218797168.0000 - val_loss: 305159680.0000\n",
      "Epoch 47/100\n",
      "10/10 [==============================] - 0s 12ms/step - loss: 218797152.0000 - val_loss: 305159680.0000\n",
      "Epoch 48/100\n",
      "10/10 [==============================] - 0s 12ms/step - loss: 218797152.0000 - val_loss: 305159680.0000\n",
      "Epoch 49/100\n",
      "10/10 [==============================] - 0s 13ms/step - loss: 218797152.0000 - val_loss: 305159680.0000\n",
      "Epoch 50/100\n",
      "10/10 [==============================] - 0s 11ms/step - loss: 218797136.0000 - val_loss: 305159680.0000\n",
      "Epoch 51/100\n",
      "10/10 [==============================] - 0s 12ms/step - loss: 218797168.0000 - val_loss: 305159680.0000\n",
      "Epoch 52/100\n",
      "10/10 [==============================] - 0s 13ms/step - loss: 218797152.0000 - val_loss: 305159680.0000\n",
      "Epoch 53/100\n",
      "10/10 [==============================] - 0s 13ms/step - loss: 218797136.0000 - val_loss: 305159680.0000\n",
      "Epoch 54/100\n",
      "10/10 [==============================] - 0s 13ms/step - loss: 218797152.0000 - val_loss: 305159680.0000\n",
      "Epoch 55/100\n",
      "10/10 [==============================] - 0s 11ms/step - loss: 218797152.0000 - val_loss: 305159680.0000\n",
      "Epoch 56/100\n",
      "10/10 [==============================] - 0s 12ms/step - loss: 218797152.0000 - val_loss: 305159680.0000\n",
      "Epoch 57/100\n",
      "10/10 [==============================] - 0s 10ms/step - loss: 218797136.0000 - val_loss: 305159680.0000\n",
      "Epoch 58/100\n",
      "10/10 [==============================] - 0s 12ms/step - loss: 218797152.0000 - val_loss: 305159680.0000\n",
      "Epoch 59/100\n",
      "10/10 [==============================] - 0s 10ms/step - loss: 218797152.0000 - val_loss: 305159680.0000\n",
      "Epoch 60/100\n",
      "10/10 [==============================] - 0s 12ms/step - loss: 218797136.0000 - val_loss: 305159680.0000\n",
      "Epoch 61/100\n",
      "10/10 [==============================] - 0s 11ms/step - loss: 218797136.0000 - val_loss: 305159680.0000\n",
      "Epoch 62/100\n",
      "10/10 [==============================] - 0s 10ms/step - loss: 218797168.0000 - val_loss: 305159680.0000\n",
      "Epoch 63/100\n",
      "10/10 [==============================] - 0s 11ms/step - loss: 218797168.0000 - val_loss: 305159680.0000\n",
      "Epoch 64/100\n",
      "10/10 [==============================] - 0s 10ms/step - loss: 218797168.0000 - val_loss: 305159680.0000\n",
      "Epoch 65/100\n",
      "10/10 [==============================] - 0s 11ms/step - loss: 218797168.0000 - val_loss: 305159680.0000\n",
      "Epoch 66/100\n",
      "10/10 [==============================] - 0s 11ms/step - loss: 218797152.0000 - val_loss: 305159680.0000\n",
      "Epoch 67/100\n",
      "10/10 [==============================] - 0s 10ms/step - loss: 218797168.0000 - val_loss: 305159680.0000\n",
      "Epoch 68/100\n",
      "10/10 [==============================] - 0s 11ms/step - loss: 218797152.0000 - val_loss: 305159680.0000\n",
      "Epoch 69/100\n",
      "10/10 [==============================] - 0s 11ms/step - loss: 218797136.0000 - val_loss: 305159680.0000\n",
      "Epoch 70/100\n",
      "10/10 [==============================] - 0s 11ms/step - loss: 218797152.0000 - val_loss: 305159680.0000\n",
      "Epoch 71/100\n",
      "10/10 [==============================] - 0s 11ms/step - loss: 218797136.0000 - val_loss: 305159680.0000\n",
      "Epoch 72/100\n",
      "10/10 [==============================] - 0s 9ms/step - loss: 218797152.0000 - val_loss: 305159680.0000\n",
      "Epoch 73/100\n",
      "10/10 [==============================] - 0s 10ms/step - loss: 218797152.0000 - val_loss: 305159680.0000\n",
      "Epoch 74/100\n",
      "10/10 [==============================] - 0s 10ms/step - loss: 218797152.0000 - val_loss: 305159680.0000\n",
      "Epoch 75/100\n",
      "10/10 [==============================] - 0s 10ms/step - loss: 218797136.0000 - val_loss: 305159680.0000\n",
      "Epoch 76/100\n",
      "10/10 [==============================] - 0s 10ms/step - loss: 218797152.0000 - val_loss: 305159680.0000\n",
      "Epoch 77/100\n",
      "10/10 [==============================] - 0s 12ms/step - loss: 218797136.0000 - val_loss: 305159680.0000\n",
      "Epoch 78/100\n",
      "10/10 [==============================] - 0s 13ms/step - loss: 218797152.0000 - val_loss: 305159680.0000\n",
      "Epoch 79/100\n",
      "10/10 [==============================] - 0s 13ms/step - loss: 218797168.0000 - val_loss: 305159680.0000\n",
      "Epoch 80/100\n",
      "10/10 [==============================] - 0s 10ms/step - loss: 218797136.0000 - val_loss: 305159680.0000\n",
      "Epoch 81/100\n",
      "10/10 [==============================] - 0s 10ms/step - loss: 218797152.0000 - val_loss: 305159680.0000\n",
      "Epoch 82/100\n",
      "10/10 [==============================] - 0s 12ms/step - loss: 218797152.0000 - val_loss: 305159680.0000\n",
      "Epoch 83/100\n",
      "10/10 [==============================] - 0s 13ms/step - loss: 218797152.0000 - val_loss: 305159680.0000\n",
      "Epoch 84/100\n",
      "10/10 [==============================] - 0s 11ms/step - loss: 218797152.0000 - val_loss: 305159680.0000\n",
      "Epoch 85/100\n",
      "10/10 [==============================] - 0s 10ms/step - loss: 218797168.0000 - val_loss: 305159680.0000\n",
      "Epoch 86/100\n",
      "10/10 [==============================] - 0s 10ms/step - loss: 218797168.0000 - val_loss: 305159680.0000\n",
      "Epoch 87/100\n",
      "10/10 [==============================] - 0s 10ms/step - loss: 218797168.0000 - val_loss: 305159680.0000\n",
      "Epoch 88/100\n",
      "10/10 [==============================] - 0s 11ms/step - loss: 218797152.0000 - val_loss: 305159680.0000\n",
      "Epoch 89/100\n",
      "10/10 [==============================] - 0s 10ms/step - loss: 218797152.0000 - val_loss: 305159680.0000\n",
      "Epoch 90/100\n",
      "10/10 [==============================] - 0s 10ms/step - loss: 218797168.0000 - val_loss: 305159680.0000\n",
      "Epoch 91/100\n",
      "10/10 [==============================] - 0s 10ms/step - loss: 218797168.0000 - val_loss: 305159680.0000\n",
      "Epoch 92/100\n",
      "10/10 [==============================] - 0s 10ms/step - loss: 218797152.0000 - val_loss: 305159680.0000\n",
      "Epoch 93/100\n",
      "10/10 [==============================] - 0s 11ms/step - loss: 218797152.0000 - val_loss: 305159680.0000\n",
      "Epoch 94/100\n",
      "10/10 [==============================] - 0s 10ms/step - loss: 218797136.0000 - val_loss: 305159680.0000\n",
      "Epoch 95/100\n",
      "10/10 [==============================] - 0s 11ms/step - loss: 218797152.0000 - val_loss: 305159680.0000\n",
      "Epoch 96/100\n",
      "10/10 [==============================] - 0s 14ms/step - loss: 218797136.0000 - val_loss: 305159680.0000\n",
      "Epoch 97/100\n",
      "10/10 [==============================] - 0s 10ms/step - loss: 218797152.0000 - val_loss: 305159680.0000\n",
      "Epoch 98/100\n",
      "10/10 [==============================] - 0s 11ms/step - loss: 218797168.0000 - val_loss: 305159680.0000\n",
      "Epoch 99/100\n",
      "10/10 [==============================] - 0s 11ms/step - loss: 218797136.0000 - val_loss: 305159680.0000\n",
      "Epoch 100/100\n",
      "10/10 [==============================] - 0s 11ms/step - loss: 218797152.0000 - val_loss: 305159680.0000\n"
     ]
    },
    {
     "data": {
      "text/plain": [
       "<keras.src.callbacks.History at 0x2b1f70ddc90>"
      ]
     },
     "execution_count": 39,
     "metadata": {},
     "output_type": "execute_result"
    }
   ],
   "source": [
    "autoencoder.fit(X,y, epochs=100, batch_size=256, shuffle=True, validation_split=0.3)"
   ]
  },
  {
   "cell_type": "code",
   "execution_count": 41,
   "id": "4b10ad8f",
   "metadata": {},
   "outputs": [],
   "source": [
    "encoder = Model(input_layer, encoded)"
   ]
  },
  {
   "cell_type": "code",
   "execution_count": 42,
   "id": "7d6f564e",
   "metadata": {},
   "outputs": [
    {
     "name": "stdout",
     "output_type": "stream",
     "text": [
      "106/106 [==============================] - 0s 2ms/step\n"
     ]
    }
   ],
   "source": [
    "compressed_data = encoder.predict(X)"
   ]
  },
  {
   "cell_type": "code",
   "execution_count": 43,
   "id": "083aac89",
   "metadata": {},
   "outputs": [],
   "source": [
    "from sklearn.cluster import KMeans\n",
    "\n",
    "kmeans = KMeans(n_clusters=3)\n",
    "clusters = kmeans.fit_predict(compressed_data)"
   ]
  },
  {
   "cell_type": "code",
   "execution_count": 44,
   "id": "249f5ea0",
   "metadata": {
    "scrolled": true
   },
   "outputs": [
    {
     "name": "stdout",
     "output_type": "stream",
     "text": [
      "Cluster 0:\n",
      "         CustomerID  InvoiceDate     Quantity   TotalPrice  Country  Segment\n",
      "count    859.000000   859.000000   859.000000   859.000000    859.0    859.0\n",
      "mean   15445.084961    57.387661   769.078003  1267.280029     35.0      0.0\n",
      "std     1514.253174    63.970264   325.113342   329.006744      0.0      0.0\n",
      "min    12820.000000    -1.000000     1.000000   343.230011     35.0      0.0\n",
      "25%    14213.000000    14.000000   533.000000   993.359985     35.0      0.0\n",
      "50%    15444.000000    31.000000   725.000000  1220.770020     35.0      0.0\n",
      "75%    16722.500000    78.000000   944.500000  1520.000000     35.0      0.0\n",
      "max    18263.000000   315.000000  2100.000000  2073.429932     35.0      0.0\n",
      "Cluster 1:\n",
      "         CustomerID  InvoiceDate     Quantity   TotalPrice  Country  Segment\n",
      "count   2129.000000  2129.000000  2129.000000  2129.000000   2129.0   2129.0\n",
      "mean   15615.222656   110.233444   221.816818   369.604156     35.0      1.0\n",
      "std     1582.962402    95.632263   165.864532   210.260529      0.0      0.0\n",
      "min    12821.000000    -1.000000     1.000000     3.750000     35.0      1.0\n",
      "25%    14238.000000    29.000000   102.000000   192.330002     35.0      1.0\n",
      "50%    15637.000000    72.000000   185.000000   331.000000     35.0      1.0\n",
      "75%    16968.000000   185.000000   304.000000   532.940002     35.0      1.0\n",
      "max    18282.000000   325.000000  1618.000000   920.099976     35.0      1.0\n",
      "Cluster 2:\n",
      "         CustomerID  InvoiceDate     Quantity   TotalPrice  Country  Segment\n",
      "count    398.000000   398.000000   398.000000   398.000000    398.0    398.0\n",
      "mean   15557.841797    36.864323  1449.625610  2590.524414     35.0      2.0\n",
      "std     1604.941162    44.351723   382.827728   491.625916      0.0      0.0\n",
      "min    12836.000000    -1.000000   284.000000  1685.459961     35.0      2.0\n",
      "25%    14222.250000     7.000000  1163.750000  2163.219971     35.0      2.0\n",
      "50%    15529.000000    23.000000  1437.500000  2520.140015     35.0      2.0\n",
      "75%    17041.250000    51.000000  1748.500000  2961.844971     35.0      2.0\n",
      "max    18287.000000   305.000000  2221.000000  3677.020020     35.0      2.0\n"
     ]
    }
   ],
   "source": [
    "cleaned_data['Segment'] = clusters\n",
    "\n",
    "for cluster in np.unique(clusters):\n",
    "    print(f\"Cluster {cluster}:\")\n",
    "    print(cleaned_data[cleaned_data['Segment'] == cluster].describe())"
   ]
  },
  {
   "cell_type": "markdown",
   "id": "fb933e8f",
   "metadata": {},
   "source": [
    "# EDA after Segmentation"
   ]
  },
  {
   "cell_type": "code",
   "execution_count": 45,
   "id": "86c491da",
   "metadata": {},
   "outputs": [
    {
     "data": {
      "image/png": "[encoded data removed]",
      "text/plain": [
       "<Figure size 640x480 with 1 Axes>"
      ]
     },
     "metadata": {},
     "output_type": "display_data"
    }
   ],
   "source": [
    "segment1 = cleaned_data[cleaned_data['Segment'] == 0]\n",
    "segment2 = cleaned_data[cleaned_data['Segment'] == 1]\n",
    "segment3 = cleaned_data[cleaned_data['Segment'] == 2]\n",
    "# segment4 = cleaned_data[cleaned_data['Segment'] == 3]\n",
    "plt.scatter(x=segment1['Quantity'], y=segment1['TotalPrice'], label=0, color='blue')\n",
    "plt.scatter(x=segment2['Quantity'], y=segment2['TotalPrice'], label=1, color='red')\n",
    "plt.scatter(x=segment3['Quantity'], y=segment3['TotalPrice'], label=2, color='yellow')\n",
    "# plt.scatter(x=segment4['Quantity'], y=segment4['TotalPrice'], label=3, color='green')\n",
    "plt.xlabel('Quantity')\n",
    "plt.ylabel('TotalPrice')\n",
    "plt.legend()\n",
    "\n",
    "plt.show()"
   ]
  },
  {
   "cell_type": "code",
   "execution_count": 46,
   "id": "81c77e5d",
   "metadata": {},
   "outputs": [
    {
     "data": {
      "text/html": [
       "<div>\n",
       "<style scoped>\n",
       "    .dataframe tbody tr th:only-of-type {\n",
       "        vertical-align: middle;\n",
       "    }\n",
       "\n",
       "    .dataframe tbody tr th {\n",
       "        vertical-align: top;\n",
       "    }\n",
       "\n",
       "    .dataframe thead tr th {\n",
       "        text-align: left;\n",
       "    }\n",
       "\n",
       "    .dataframe thead tr:last-of-type th {\n",
       "        text-align: right;\n",
       "    }\n",
       "</style>\n",
       "<table border=\"1\" class=\"dataframe\">\n",
       "  <thead>\n",
       "    <tr>\n",
       "      <th></th>\n",
       "      <th colspan=\"4\" halign=\"left\">InvoiceDate</th>\n",
       "      <th colspan=\"4\" halign=\"left\">Quantity</th>\n",
       "      <th colspan=\"4\" halign=\"left\">TotalPrice</th>\n",
       "    </tr>\n",
       "    <tr>\n",
       "      <th></th>\n",
       "      <th>count</th>\n",
       "      <th>mean</th>\n",
       "      <th>max</th>\n",
       "      <th>sum</th>\n",
       "      <th>count</th>\n",
       "      <th>mean</th>\n",
       "      <th>max</th>\n",
       "      <th>sum</th>\n",
       "      <th>count</th>\n",
       "      <th>mean</th>\n",
       "      <th>max</th>\n",
       "      <th>sum</th>\n",
       "    </tr>\n",
       "    <tr>\n",
       "      <th>Segment</th>\n",
       "      <th></th>\n",
       "      <th></th>\n",
       "      <th></th>\n",
       "      <th></th>\n",
       "      <th></th>\n",
       "      <th></th>\n",
       "      <th></th>\n",
       "      <th></th>\n",
       "      <th></th>\n",
       "      <th></th>\n",
       "      <th></th>\n",
       "      <th></th>\n",
       "    </tr>\n",
       "  </thead>\n",
       "  <tbody>\n",
       "    <tr>\n",
       "      <th>0</th>\n",
       "      <td>859</td>\n",
       "      <td>57.387661</td>\n",
       "      <td>315.0</td>\n",
       "      <td>49296.0</td>\n",
       "      <td>859</td>\n",
       "      <td>769.078003</td>\n",
       "      <td>2100.0</td>\n",
       "      <td>660638.0</td>\n",
       "      <td>859</td>\n",
       "      <td>1267.280151</td>\n",
       "      <td>2073.429932</td>\n",
       "      <td>1.088594e+06</td>\n",
       "    </tr>\n",
       "    <tr>\n",
       "      <th>1</th>\n",
       "      <td>2129</td>\n",
       "      <td>110.233444</td>\n",
       "      <td>325.0</td>\n",
       "      <td>234687.0</td>\n",
       "      <td>2129</td>\n",
       "      <td>221.816818</td>\n",
       "      <td>1618.0</td>\n",
       "      <td>472248.0</td>\n",
       "      <td>2129</td>\n",
       "      <td>369.604156</td>\n",
       "      <td>920.099976</td>\n",
       "      <td>7.868872e+05</td>\n",
       "    </tr>\n",
       "    <tr>\n",
       "      <th>2</th>\n",
       "      <td>398</td>\n",
       "      <td>36.864323</td>\n",
       "      <td>305.0</td>\n",
       "      <td>14672.0</td>\n",
       "      <td>398</td>\n",
       "      <td>1449.625610</td>\n",
       "      <td>2221.0</td>\n",
       "      <td>576951.0</td>\n",
       "      <td>398</td>\n",
       "      <td>2590.524414</td>\n",
       "      <td>3677.020020</td>\n",
       "      <td>1.031029e+06</td>\n",
       "    </tr>\n",
       "  </tbody>\n",
       "</table>\n",
       "</div>"
      ],
      "text/plain": [
       "        InvoiceDate                              Quantity               \\\n",
       "              count        mean    max       sum    count         mean   \n",
       "Segment                                                                  \n",
       "0               859   57.387661  315.0   49296.0      859   769.078003   \n",
       "1              2129  110.233444  325.0  234687.0     2129   221.816818   \n",
       "2               398   36.864323  305.0   14672.0      398  1449.625610   \n",
       "\n",
       "                          TotalPrice                                          \n",
       "            max       sum      count         mean          max           sum  \n",
       "Segment                                                                       \n",
       "0        2100.0  660638.0        859  1267.280151  2073.429932  1.088594e+06  \n",
       "1        1618.0  472248.0       2129   369.604156   920.099976  7.868872e+05  \n",
       "2        2221.0  576951.0        398  2590.524414  3677.020020  1.031029e+06  "
      ]
     },
     "execution_count": 46,
     "metadata": {},
     "output_type": "execute_result"
    }
   ],
   "source": [
    "customer_seg = cleaned_data[['Segment','InvoiceDate','Quantity','TotalPrice']].groupby('Segment').agg(['count','mean','max','sum'])\n",
    "customer_seg"
   ]
  },
  {
   "cell_type": "code",
   "execution_count": 59,
   "id": "d3d7828a",
   "metadata": {
    "scrolled": true
   },
   "outputs": [
    {
     "data": {
      "text/html": [
       "<div>\n",
       "<style scoped>\n",
       "    .dataframe tbody tr th:only-of-type {\n",
       "        vertical-align: middle;\n",
       "    }\n",
       "\n",
       "    .dataframe tbody tr th {\n",
       "        vertical-align: top;\n",
       "    }\n",
       "\n",
       "    .dataframe thead tr th {\n",
       "        text-align: left;\n",
       "    }\n",
       "\n",
       "    .dataframe thead tr:last-of-type th {\n",
       "        text-align: right;\n",
       "    }\n",
       "</style>\n",
       "<table border=\"1\" class=\"dataframe\">\n",
       "  <thead>\n",
       "    <tr>\n",
       "      <th></th>\n",
       "      <th colspan=\"4\" halign=\"left\">InvoiceDate</th>\n",
       "      <th colspan=\"4\" halign=\"left\">Quantity</th>\n",
       "      <th colspan=\"4\" halign=\"left\">TotalPrice</th>\n",
       "    </tr>\n",
       "    <tr>\n",
       "      <th></th>\n",
       "      <th>count</th>\n",
       "      <th>mean</th>\n",
       "      <th>max</th>\n",
       "      <th>sum</th>\n",
       "      <th>count</th>\n",
       "      <th>mean</th>\n",
       "      <th>max</th>\n",
       "      <th>sum</th>\n",
       "      <th>count</th>\n",
       "      <th>mean</th>\n",
       "      <th>max</th>\n",
       "      <th>sum</th>\n",
       "    </tr>\n",
       "    <tr>\n",
       "      <th>Segment</th>\n",
       "      <th></th>\n",
       "      <th></th>\n",
       "      <th></th>\n",
       "      <th></th>\n",
       "      <th></th>\n",
       "      <th></th>\n",
       "      <th></th>\n",
       "      <th></th>\n",
       "      <th></th>\n",
       "      <th></th>\n",
       "      <th></th>\n",
       "      <th></th>\n",
       "    </tr>\n",
       "  </thead>\n",
       "  <tbody>\n",
       "    <tr>\n",
       "      <th>0</th>\n",
       "      <td>859</td>\n",
       "      <td>57.387661</td>\n",
       "      <td>315.0</td>\n",
       "      <td>49296.0</td>\n",
       "      <td>859</td>\n",
       "      <td>769.078003</td>\n",
       "      <td>2100.0</td>\n",
       "      <td>660638.0</td>\n",
       "      <td>859</td>\n",
       "      <td>1267.280151</td>\n",
       "      <td>2073.429932</td>\n",
       "      <td>1.088594e+06</td>\n",
       "    </tr>\n",
       "    <tr>\n",
       "      <th>2</th>\n",
       "      <td>398</td>\n",
       "      <td>36.864323</td>\n",
       "      <td>305.0</td>\n",
       "      <td>14672.0</td>\n",
       "      <td>398</td>\n",
       "      <td>1449.625610</td>\n",
       "      <td>2221.0</td>\n",
       "      <td>576951.0</td>\n",
       "      <td>398</td>\n",
       "      <td>2590.524414</td>\n",
       "      <td>3677.020020</td>\n",
       "      <td>1.031029e+06</td>\n",
       "    </tr>\n",
       "    <tr>\n",
       "      <th>1</th>\n",
       "      <td>2129</td>\n",
       "      <td>110.233444</td>\n",
       "      <td>325.0</td>\n",
       "      <td>234687.0</td>\n",
       "      <td>2129</td>\n",
       "      <td>221.816818</td>\n",
       "      <td>1618.0</td>\n",
       "      <td>472248.0</td>\n",
       "      <td>2129</td>\n",
       "      <td>369.604156</td>\n",
       "      <td>920.099976</td>\n",
       "      <td>7.868872e+05</td>\n",
       "    </tr>\n",
       "  </tbody>\n",
       "</table>\n",
       "</div>"
      ],
      "text/plain": [
       "        InvoiceDate                              Quantity               \\\n",
       "              count        mean    max       sum    count         mean   \n",
       "Segment                                                                  \n",
       "0               859   57.387661  315.0   49296.0      859   769.078003   \n",
       "2               398   36.864323  305.0   14672.0      398  1449.625610   \n",
       "1              2129  110.233444  325.0  234687.0     2129   221.816818   \n",
       "\n",
       "                          TotalPrice                                          \n",
       "            max       sum      count         mean          max           sum  \n",
       "Segment                                                                       \n",
       "0        2100.0  660638.0        859  1267.280151  2073.429932  1.088594e+06  \n",
       "2        2221.0  576951.0        398  2590.524414  3677.020020  1.031029e+06  \n",
       "1        1618.0  472248.0       2129   369.604156   920.099976  7.868872e+05  "
      ]
     },
     "execution_count": 59,
     "metadata": {},
     "output_type": "execute_result"
    }
   ],
   "source": [
    "customer_seg.sort_values(by=('TotalPrice','sum'), ascending=False)"
   ]
  },
  {
   "cell_type": "code",
   "execution_count": 54,
   "id": "665212a0",
   "metadata": {
    "scrolled": true
   },
   "outputs": [
    {
     "data": {
      "text/plain": [
       "(1031028.7, 1088593.6, 786887.25)"
      ]
     },
     "execution_count": 54,
     "metadata": {},
     "output_type": "execute_result"
    }
   ],
   "source": [
    "customer_seg['TotalPrice']['sum'][2],customer_seg['TotalPrice']['sum'][0],customer_seg['TotalPrice']['sum'][1]"
   ]
  },
  {
   "cell_type": "code",
   "execution_count": 47,
   "id": "f8efb931",
   "metadata": {},
   "outputs": [
    {
     "data": {
      "text/html": [
       "<div>\n",
       "<style scoped>\n",
       "    .dataframe tbody tr th:only-of-type {\n",
       "        vertical-align: middle;\n",
       "    }\n",
       "\n",
       "    .dataframe tbody tr th {\n",
       "        vertical-align: top;\n",
       "    }\n",
       "\n",
       "    .dataframe thead th {\n",
       "        text-align: right;\n",
       "    }\n",
       "</style>\n",
       "<table border=\"1\" class=\"dataframe\">\n",
       "  <thead>\n",
       "    <tr style=\"text-align: right;\">\n",
       "      <th></th>\n",
       "      <th>CustomerID</th>\n",
       "      <th>InvoiceDate</th>\n",
       "      <th>Quantity</th>\n",
       "      <th>TotalPrice</th>\n",
       "      <th>Country</th>\n",
       "      <th>Segment</th>\n",
       "    </tr>\n",
       "  </thead>\n",
       "  <tbody>\n",
       "    <tr>\n",
       "      <th>count</th>\n",
       "      <td>398.000000</td>\n",
       "      <td>398.000000</td>\n",
       "      <td>398.000000</td>\n",
       "      <td>398.000000</td>\n",
       "      <td>398.0</td>\n",
       "      <td>398.0</td>\n",
       "    </tr>\n",
       "    <tr>\n",
       "      <th>mean</th>\n",
       "      <td>15557.841797</td>\n",
       "      <td>36.864323</td>\n",
       "      <td>1449.625610</td>\n",
       "      <td>2590.524414</td>\n",
       "      <td>35.0</td>\n",
       "      <td>2.0</td>\n",
       "    </tr>\n",
       "    <tr>\n",
       "      <th>std</th>\n",
       "      <td>1604.941162</td>\n",
       "      <td>44.351723</td>\n",
       "      <td>382.827728</td>\n",
       "      <td>491.625916</td>\n",
       "      <td>0.0</td>\n",
       "      <td>0.0</td>\n",
       "    </tr>\n",
       "    <tr>\n",
       "      <th>min</th>\n",
       "      <td>12836.000000</td>\n",
       "      <td>-1.000000</td>\n",
       "      <td>284.000000</td>\n",
       "      <td>1685.459961</td>\n",
       "      <td>35.0</td>\n",
       "      <td>2.0</td>\n",
       "    </tr>\n",
       "    <tr>\n",
       "      <th>25%</th>\n",
       "      <td>14222.250000</td>\n",
       "      <td>7.000000</td>\n",
       "      <td>1163.750000</td>\n",
       "      <td>2163.219971</td>\n",
       "      <td>35.0</td>\n",
       "      <td>2.0</td>\n",
       "    </tr>\n",
       "    <tr>\n",
       "      <th>50%</th>\n",
       "      <td>15529.000000</td>\n",
       "      <td>23.000000</td>\n",
       "      <td>1437.500000</td>\n",
       "      <td>2520.140015</td>\n",
       "      <td>35.0</td>\n",
       "      <td>2.0</td>\n",
       "    </tr>\n",
       "    <tr>\n",
       "      <th>75%</th>\n",
       "      <td>17041.250000</td>\n",
       "      <td>51.000000</td>\n",
       "      <td>1748.500000</td>\n",
       "      <td>2961.844971</td>\n",
       "      <td>35.0</td>\n",
       "      <td>2.0</td>\n",
       "    </tr>\n",
       "    <tr>\n",
       "      <th>max</th>\n",
       "      <td>18287.000000</td>\n",
       "      <td>305.000000</td>\n",
       "      <td>2221.000000</td>\n",
       "      <td>3677.020020</td>\n",
       "      <td>35.0</td>\n",
       "      <td>2.0</td>\n",
       "    </tr>\n",
       "  </tbody>\n",
       "</table>\n",
       "</div>"
      ],
      "text/plain": [
       "         CustomerID  InvoiceDate     Quantity   TotalPrice  Country  Segment\n",
       "count    398.000000   398.000000   398.000000   398.000000    398.0    398.0\n",
       "mean   15557.841797    36.864323  1449.625610  2590.524414     35.0      2.0\n",
       "std     1604.941162    44.351723   382.827728   491.625916      0.0      0.0\n",
       "min    12836.000000    -1.000000   284.000000  1685.459961     35.0      2.0\n",
       "25%    14222.250000     7.000000  1163.750000  2163.219971     35.0      2.0\n",
       "50%    15529.000000    23.000000  1437.500000  2520.140015     35.0      2.0\n",
       "75%    17041.250000    51.000000  1748.500000  2961.844971     35.0      2.0\n",
       "max    18287.000000   305.000000  2221.000000  3677.020020     35.0      2.0"
      ]
     },
     "execution_count": 47,
     "metadata": {},
     "output_type": "execute_result"
    }
   ],
   "source": [
    "cleaned_data[cleaned_data['Segment'] == cluster].describe()"
   ]
  },
  {
   "cell_type": "markdown",
   "id": "9fccabd7",
   "metadata": {},
   "source": [
    "# Conclusions\n",
    "## segment 1 are 63% of all customers & 28% of all quantity & 28% of all profits\n",
    "## segment 0 are 25% of all customers & 38% of all quantity & 37% of all profits\n",
    "## segment 2 are 12% of all customers & 34% of all quantity & 35% of all profits\n"
   ]
  },
  {
   "cell_type": "code",
   "execution_count": null,
   "id": "ce8249f5",
   "metadata": {},
   "outputs": [],
   "source": []
  },
  {
   "cell_type": "code",
   "execution_count": null,
   "id": "be7c43d5",
   "metadata": {},
   "outputs": [],
   "source": []
  },
  {
   "cell_type": "code",
   "execution_count": null,
   "id": "96cbdab6",
   "metadata": {},
   "outputs": [],
   "source": []
  }
 ],
 "metadata": {
  "kernelspec": {
   "display_name": "Python 3 (ipykernel)",
   "language": "python",
   "name": "python3"
  },
  "language_info": {
   "codemirror_mode": {
    "name": "ipython",
    "version": 3
   },
   "file_extension": ".py",
   "mimetype": "text/x-python",
   "name": "python",
   "nbconvert_exporter": "python",
   "pygments_lexer": "ipython3",
   "version": "3.11.5"
  }
 },
 "nbformat": 4,
 "nbformat_minor": 5
}
