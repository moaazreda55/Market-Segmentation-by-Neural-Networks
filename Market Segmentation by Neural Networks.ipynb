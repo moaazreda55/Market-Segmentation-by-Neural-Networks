{
 "cells": [
  {
   "cell_type": "markdown",
   "id": "06b2108f",
   "metadata": {},
   "source": [
    "# My Libraries"
   ]
  },
  {
   "cell_type": "code",
   "execution_count": 1,
   "id": "cbea0568",
   "metadata": {},
   "outputs": [
    {
     "name": "stderr",
     "output_type": "stream",
     "text": [
      "C:\\ProgramData\\Anaconda3\\lib\\site-packages\\scipy\\__init__.py:146: UserWarning: A NumPy version >=1.16.5 and <1.23.0 is required for this version of SciPy (detected version 1.26.0\n",
      "  warnings.warn(f\"A NumPy version >={np_minversion} and <{np_maxversion}\"\n"
     ]
    }
   ],
   "source": [
    "import numpy as np\n",
    "import pandas as pd\n",
    "import matplotlib.pyplot as plt\n",
    "import seaborn as sns\n",
    "import plotly.express as px\n",
    "import warnings\n",
    "warnings.filterwarnings(\"ignore\")\n",
    "import datetime as dt"
   ]
  },
  {
   "cell_type": "markdown",
   "id": "c72b5887",
   "metadata": {},
   "source": [
    "# Data Wrangling"
   ]
  },
  {
   "cell_type": "code",
   "execution_count": 36,
   "id": "0e744604",
   "metadata": {
    "scrolled": true
   },
   "outputs": [
    {
     "data": {
      "text/html": [
       "<div>\n",
       "<style scoped>\n",
       "    .dataframe tbody tr th:only-of-type {\n",
       "        vertical-align: middle;\n",
       "    }\n",
       "\n",
       "    .dataframe tbody tr th {\n",
       "        vertical-align: top;\n",
       "    }\n",
       "\n",
       "    .dataframe thead th {\n",
       "        text-align: right;\n",
       "    }\n",
       "</style>\n",
       "<table border=\"1\" class=\"dataframe\">\n",
       "  <thead>\n",
       "    <tr style=\"text-align: right;\">\n",
       "      <th></th>\n",
       "      <th>InvoiceNo</th>\n",
       "      <th>StockCode</th>\n",
       "      <th>Description</th>\n",
       "      <th>Quantity</th>\n",
       "      <th>InvoiceDate</th>\n",
       "      <th>UnitPrice</th>\n",
       "      <th>CustomerID</th>\n",
       "      <th>Country</th>\n",
       "    </tr>\n",
       "  </thead>\n",
       "  <tbody>\n",
       "    <tr>\n",
       "      <th>0</th>\n",
       "      <td>536365</td>\n",
       "      <td>85123A</td>\n",
       "      <td>WHITE HANGING HEART T-LIGHT HOLDER</td>\n",
       "      <td>6</td>\n",
       "      <td>2010-12-01 08:26:00</td>\n",
       "      <td>2.55</td>\n",
       "      <td>17850.0</td>\n",
       "      <td>United Kingdom</td>\n",
       "    </tr>\n",
       "    <tr>\n",
       "      <th>1</th>\n",
       "      <td>536365</td>\n",
       "      <td>71053</td>\n",
       "      <td>WHITE METAL LANTERN</td>\n",
       "      <td>6</td>\n",
       "      <td>2010-12-01 08:26:00</td>\n",
       "      <td>3.39</td>\n",
       "      <td>17850.0</td>\n",
       "      <td>United Kingdom</td>\n",
       "    </tr>\n",
       "    <tr>\n",
       "      <th>2</th>\n",
       "      <td>536365</td>\n",
       "      <td>84406B</td>\n",
       "      <td>CREAM CUPID HEARTS COAT HANGER</td>\n",
       "      <td>8</td>\n",
       "      <td>2010-12-01 08:26:00</td>\n",
       "      <td>2.75</td>\n",
       "      <td>17850.0</td>\n",
       "      <td>United Kingdom</td>\n",
       "    </tr>\n",
       "    <tr>\n",
       "      <th>3</th>\n",
       "      <td>536365</td>\n",
       "      <td>84029G</td>\n",
       "      <td>KNITTED UNION FLAG HOT WATER BOTTLE</td>\n",
       "      <td>6</td>\n",
       "      <td>2010-12-01 08:26:00</td>\n",
       "      <td>3.39</td>\n",
       "      <td>17850.0</td>\n",
       "      <td>United Kingdom</td>\n",
       "    </tr>\n",
       "    <tr>\n",
       "      <th>4</th>\n",
       "      <td>536365</td>\n",
       "      <td>84029E</td>\n",
       "      <td>RED WOOLLY HOTTIE WHITE HEART.</td>\n",
       "      <td>6</td>\n",
       "      <td>2010-12-01 08:26:00</td>\n",
       "      <td>3.39</td>\n",
       "      <td>17850.0</td>\n",
       "      <td>United Kingdom</td>\n",
       "    </tr>\n",
       "  </tbody>\n",
       "</table>\n",
       "</div>"
      ],
      "text/plain": [
       "  InvoiceNo StockCode                          Description  Quantity  \\\n",
       "0    536365    85123A   WHITE HANGING HEART T-LIGHT HOLDER         6   \n",
       "1    536365     71053                  WHITE METAL LANTERN         6   \n",
       "2    536365    84406B       CREAM CUPID HEARTS COAT HANGER         8   \n",
       "3    536365    84029G  KNITTED UNION FLAG HOT WATER BOTTLE         6   \n",
       "4    536365    84029E       RED WOOLLY HOTTIE WHITE HEART.         6   \n",
       "\n",
       "          InvoiceDate  UnitPrice  CustomerID         Country  \n",
       "0 2010-12-01 08:26:00       2.55     17850.0  United Kingdom  \n",
       "1 2010-12-01 08:26:00       3.39     17850.0  United Kingdom  \n",
       "2 2010-12-01 08:26:00       2.75     17850.0  United Kingdom  \n",
       "3 2010-12-01 08:26:00       3.39     17850.0  United Kingdom  \n",
       "4 2010-12-01 08:26:00       3.39     17850.0  United Kingdom  "
      ]
     },
     "execution_count": 36,
     "metadata": {},
     "output_type": "execute_result"
    }
   ],
   "source": [
    "df=pd.read_excel('D:/sql/Data set/Retail/Online Retail.xlsx')\n",
    "df.head()"
   ]
  },
  {
   "cell_type": "markdown",
   "id": "c8bcd36c",
   "metadata": {},
   "source": [
    "# Data Preparing"
   ]
  },
  {
   "cell_type": "markdown",
   "id": "207fd390",
   "metadata": {},
   "source": [
    "## changing all 0 unit price to the mode price for every category"
   ]
  },
  {
   "cell_type": "code",
   "execution_count": 37,
   "id": "3e671a20",
   "metadata": {
    "scrolled": false
   },
   "outputs": [],
   "source": [
    "zero_G=df.loc[(df['UnitPrice']==0)&(df['CustomerID'].notnull()==True),['Description']]"
   ]
  },
  {
   "cell_type": "code",
   "execution_count": 38,
   "id": "9244fd44",
   "metadata": {},
   "outputs": [],
   "source": [
    "a=list(zero_G['Description'])"
   ]
  },
  {
   "cell_type": "code",
   "execution_count": 39,
   "id": "6de3f334",
   "metadata": {},
   "outputs": [],
   "source": [
    "for i in a:\n",
    "    \n",
    "    description_match = df['Description'] == i\n",
    "    mode_price = df[description_match]['UnitPrice'].mode().iloc[0]\n",
    "    df.loc[description_match & (df['UnitPrice'] == 0), 'UnitPrice'] = mode_price"
   ]
  },
  {
   "cell_type": "markdown",
   "id": "ebc334b9",
   "metadata": {},
   "source": [
    "## adding total price column"
   ]
  },
  {
   "cell_type": "code",
   "execution_count": 40,
   "id": "a6695bb9",
   "metadata": {},
   "outputs": [],
   "source": [
    "df['TotalPrice']=df['UnitPrice']*df['Quantity']"
   ]
  },
  {
   "cell_type": "code",
   "execution_count": 41,
   "id": "8d7a2f52",
   "metadata": {},
   "outputs": [
    {
     "name": "stdout",
     "output_type": "stream",
     "text": [
      "<class 'pandas.core.frame.DataFrame'>\n",
      "RangeIndex: 541909 entries, 0 to 541908\n",
      "Data columns (total 9 columns):\n",
      " #   Column       Non-Null Count   Dtype         \n",
      "---  ------       --------------   -----         \n",
      " 0   InvoiceNo    541909 non-null  object        \n",
      " 1   StockCode    541909 non-null  object        \n",
      " 2   Description  540455 non-null  object        \n",
      " 3   Quantity     541909 non-null  int64         \n",
      " 4   InvoiceDate  541909 non-null  datetime64[ns]\n",
      " 5   UnitPrice    541909 non-null  float64       \n",
      " 6   CustomerID   406829 non-null  float64       \n",
      " 7   Country      541909 non-null  object        \n",
      " 8   TotalPrice   541909 non-null  float64       \n",
      "dtypes: datetime64[ns](1), float64(3), int64(1), object(4)\n",
      "memory usage: 37.2+ MB\n"
     ]
    }
   ],
   "source": [
    "df.info()"
   ]
  },
  {
   "cell_type": "markdown",
   "id": "b1af04bc",
   "metadata": {},
   "source": [
    "# Data Cleaning"
   ]
  },
  {
   "cell_type": "markdown",
   "id": "e49251df",
   "metadata": {},
   "source": [
    "## Removing non customer & cancelled transactions"
   ]
  },
  {
   "cell_type": "code",
   "execution_count": 42,
   "id": "6cc03ca9",
   "metadata": {
    "scrolled": true
   },
   "outputs": [],
   "source": [
    "df2=df.loc[(df['Quantity']>0)&(df['CustomerID'].notnull()==True)]"
   ]
  },
  {
   "cell_type": "code",
   "execution_count": 43,
   "id": "a1d4e072",
   "metadata": {},
   "outputs": [
    {
     "name": "stdout",
     "output_type": "stream",
     "text": [
      "<class 'pandas.core.frame.DataFrame'>\n",
      "Int64Index: 397924 entries, 0 to 541908\n",
      "Data columns (total 9 columns):\n",
      " #   Column       Non-Null Count   Dtype         \n",
      "---  ------       --------------   -----         \n",
      " 0   InvoiceNo    397924 non-null  object        \n",
      " 1   StockCode    397924 non-null  object        \n",
      " 2   Description  397924 non-null  object        \n",
      " 3   Quantity     397924 non-null  int64         \n",
      " 4   InvoiceDate  397924 non-null  datetime64[ns]\n",
      " 5   UnitPrice    397924 non-null  float64       \n",
      " 6   CustomerID   397924 non-null  float64       \n",
      " 7   Country      397924 non-null  object        \n",
      " 8   TotalPrice   397924 non-null  float64       \n",
      "dtypes: datetime64[ns](1), float64(3), int64(1), object(4)\n",
      "memory usage: 30.4+ MB\n"
     ]
    }
   ],
   "source": [
    "df2.info()"
   ]
  },
  {
   "cell_type": "code",
   "execution_count": 44,
   "id": "e1931e96",
   "metadata": {
    "scrolled": true
   },
   "outputs": [
    {
     "data": {
      "text/html": [
       "<div>\n",
       "<style scoped>\n",
       "    .dataframe tbody tr th:only-of-type {\n",
       "        vertical-align: middle;\n",
       "    }\n",
       "\n",
       "    .dataframe tbody tr th {\n",
       "        vertical-align: top;\n",
       "    }\n",
       "\n",
       "    .dataframe thead th {\n",
       "        text-align: right;\n",
       "    }\n",
       "</style>\n",
       "<table border=\"1\" class=\"dataframe\">\n",
       "  <thead>\n",
       "    <tr style=\"text-align: right;\">\n",
       "      <th></th>\n",
       "      <th>Unique Values Count</th>\n",
       "    </tr>\n",
       "  </thead>\n",
       "  <tbody>\n",
       "    <tr>\n",
       "      <th>InvoiceNo</th>\n",
       "      <td>18536</td>\n",
       "    </tr>\n",
       "    <tr>\n",
       "      <th>StockCode</th>\n",
       "      <td>3665</td>\n",
       "    </tr>\n",
       "    <tr>\n",
       "      <th>Description</th>\n",
       "      <td>3877</td>\n",
       "    </tr>\n",
       "    <tr>\n",
       "      <th>Quantity</th>\n",
       "      <td>302</td>\n",
       "    </tr>\n",
       "    <tr>\n",
       "      <th>InvoiceDate</th>\n",
       "      <td>17286</td>\n",
       "    </tr>\n",
       "    <tr>\n",
       "      <th>UnitPrice</th>\n",
       "      <td>440</td>\n",
       "    </tr>\n",
       "    <tr>\n",
       "      <th>CustomerID</th>\n",
       "      <td>4339</td>\n",
       "    </tr>\n",
       "    <tr>\n",
       "      <th>Country</th>\n",
       "      <td>37</td>\n",
       "    </tr>\n",
       "    <tr>\n",
       "      <th>TotalPrice</th>\n",
       "      <td>2940</td>\n",
       "    </tr>\n",
       "  </tbody>\n",
       "</table>\n",
       "</div>"
      ],
      "text/plain": [
       "             Unique Values Count\n",
       "InvoiceNo                  18536\n",
       "StockCode                   3665\n",
       "Description                 3877\n",
       "Quantity                     302\n",
       "InvoiceDate                17286\n",
       "UnitPrice                    440\n",
       "CustomerID                  4339\n",
       "Country                       37\n",
       "TotalPrice                  2940"
      ]
     },
     "execution_count": 44,
     "metadata": {},
     "output_type": "execute_result"
    }
   ],
   "source": [
    "pd.DataFrame(df2.apply(lambda col: len(col.unique())),columns=[\"Unique Values Count\"])"
   ]
  },
  {
   "cell_type": "markdown",
   "id": "69e178fb",
   "metadata": {},
   "source": [
    "## droping unimportant feature"
   ]
  },
  {
   "cell_type": "code",
   "execution_count": 45,
   "id": "9f9ab5ae",
   "metadata": {},
   "outputs": [],
   "source": [
    "df2.drop(['InvoiceNo','Description'],axis=1,inplace=True)"
   ]
  },
  {
   "cell_type": "code",
   "execution_count": 46,
   "id": "d75c5944",
   "metadata": {},
   "outputs": [],
   "source": [
    "df2['StockCode'] = df2['StockCode'].astype(str)\n",
    "df2['Country'] = df2['Country'].astype(str)"
   ]
  },
  {
   "cell_type": "code",
   "execution_count": 47,
   "id": "134922be",
   "metadata": {},
   "outputs": [
    {
     "name": "stdout",
     "output_type": "stream",
     "text": [
      "<class 'pandas.core.frame.DataFrame'>\n",
      "Int64Index: 397924 entries, 0 to 541908\n",
      "Data columns (total 7 columns):\n",
      " #   Column       Non-Null Count   Dtype         \n",
      "---  ------       --------------   -----         \n",
      " 0   StockCode    397924 non-null  object        \n",
      " 1   Quantity     397924 non-null  int64         \n",
      " 2   InvoiceDate  397924 non-null  datetime64[ns]\n",
      " 3   UnitPrice    397924 non-null  float64       \n",
      " 4   CustomerID   397924 non-null  float64       \n",
      " 5   Country      397924 non-null  object        \n",
      " 6   TotalPrice   397924 non-null  float64       \n",
      "dtypes: datetime64[ns](1), float64(3), int64(1), object(2)\n",
      "memory usage: 24.3+ MB\n"
     ]
    }
   ],
   "source": [
    "df2.info()"
   ]
  },
  {
   "cell_type": "code",
   "execution_count": 48,
   "id": "120b28e1",
   "metadata": {
    "scrolled": true
   },
   "outputs": [
    {
     "data": {
      "text/html": [
       "<div>\n",
       "<style scoped>\n",
       "    .dataframe tbody tr th:only-of-type {\n",
       "        vertical-align: middle;\n",
       "    }\n",
       "\n",
       "    .dataframe tbody tr th {\n",
       "        vertical-align: top;\n",
       "    }\n",
       "\n",
       "    .dataframe thead th {\n",
       "        text-align: right;\n",
       "    }\n",
       "</style>\n",
       "<table border=\"1\" class=\"dataframe\">\n",
       "  <thead>\n",
       "    <tr style=\"text-align: right;\">\n",
       "      <th></th>\n",
       "      <th>Unique Values Count</th>\n",
       "    </tr>\n",
       "  </thead>\n",
       "  <tbody>\n",
       "    <tr>\n",
       "      <th>StockCode</th>\n",
       "      <td>3665</td>\n",
       "    </tr>\n",
       "    <tr>\n",
       "      <th>Quantity</th>\n",
       "      <td>302</td>\n",
       "    </tr>\n",
       "    <tr>\n",
       "      <th>InvoiceDate</th>\n",
       "      <td>17286</td>\n",
       "    </tr>\n",
       "    <tr>\n",
       "      <th>UnitPrice</th>\n",
       "      <td>440</td>\n",
       "    </tr>\n",
       "    <tr>\n",
       "      <th>CustomerID</th>\n",
       "      <td>4339</td>\n",
       "    </tr>\n",
       "    <tr>\n",
       "      <th>Country</th>\n",
       "      <td>37</td>\n",
       "    </tr>\n",
       "    <tr>\n",
       "      <th>TotalPrice</th>\n",
       "      <td>2940</td>\n",
       "    </tr>\n",
       "  </tbody>\n",
       "</table>\n",
       "</div>"
      ],
      "text/plain": [
       "             Unique Values Count\n",
       "StockCode                   3665\n",
       "Quantity                     302\n",
       "InvoiceDate                17286\n",
       "UnitPrice                    440\n",
       "CustomerID                  4339\n",
       "Country                       37\n",
       "TotalPrice                  2940"
      ]
     },
     "execution_count": 48,
     "metadata": {},
     "output_type": "execute_result"
    }
   ],
   "source": [
    "pd.DataFrame(df2.apply(lambda col: len(col.unique())),columns=[\"Unique Values Count\"])"
   ]
  },
  {
   "cell_type": "code",
   "execution_count": 49,
   "id": "a3780740",
   "metadata": {},
   "outputs": [
    {
     "data": {
      "text/plain": [
       "Timestamp('2011-12-09 12:50:00')"
      ]
     },
     "execution_count": 49,
     "metadata": {},
     "output_type": "execute_result"
    }
   ],
   "source": [
    "df['InvoiceDate'].max()"
   ]
  },
  {
   "cell_type": "code",
   "execution_count": 50,
   "id": "b9a95a2d",
   "metadata": {},
   "outputs": [],
   "source": [
    "today_date = dt.datetime(2011, 12, 9)"
   ]
  },
  {
   "cell_type": "code",
   "execution_count": 51,
   "id": "caf8087a",
   "metadata": {},
   "outputs": [],
   "source": [
    "df2['InvoiceDate'] = (today_date - df2['InvoiceDate']).dt.days"
   ]
  },
  {
   "cell_type": "code",
   "execution_count": 52,
   "id": "592395f1",
   "metadata": {
    "scrolled": true
   },
   "outputs": [
    {
     "name": "stdout",
     "output_type": "stream",
     "text": [
      "StockCode      0\n",
      "Quantity       0\n",
      "InvoiceDate    0\n",
      "UnitPrice      0\n",
      "CustomerID     0\n",
      "Country        0\n",
      "TotalPrice     0\n",
      "dtype: int64\n"
     ]
    }
   ],
   "source": [
    "print(df2.isnull().sum())"
   ]
  },
  {
   "cell_type": "code",
   "execution_count": 53,
   "id": "ab66f867",
   "metadata": {},
   "outputs": [
    {
     "data": {
      "text/plain": [
       "6604"
      ]
     },
     "execution_count": 53,
     "metadata": {},
     "output_type": "execute_result"
    }
   ],
   "source": [
    "df2.duplicated().sum()"
   ]
  },
  {
   "cell_type": "code",
   "execution_count": 54,
   "id": "2745230c",
   "metadata": {},
   "outputs": [],
   "source": [
    "df2.drop_duplicates(inplace = True)"
   ]
  },
  {
   "cell_type": "code",
   "execution_count": 60,
   "id": "7207d187",
   "metadata": {
    "scrolled": true
   },
   "outputs": [
    {
     "data": {
      "image/png": "[encoded data removed]",
      "text/plain": [
       "<Figure size 432x288 with 1 Axes>"
      ]
     },
     "metadata": {
      "needs_background": "light"
     },
     "output_type": "display_data"
    }
   ],
   "source": [
    "sns.boxplot(customer_data['Quantity'])\n",
    "plt.show()"
   ]
  },
  {
   "cell_type": "code",
   "execution_count": 22,
   "id": "b596dc33",
   "metadata": {
    "scrolled": true
   },
   "outputs": [
    {
     "data": {
      "image/png": "[encoded data removed]",
      "text/plain": [
       "<Figure size 432x288 with 2 Axes>"
      ]
     },
     "metadata": {
      "needs_background": "light"
     },
     "output_type": "display_data"
    }
   ],
   "source": [
    "correlation_matrix = df2.corr()\n",
    "sns.heatmap(correlation_matrix, annot=True)\n",
    "plt.show()"
   ]
  },
  {
   "cell_type": "markdown",
   "id": "1eaa025a",
   "metadata": {},
   "source": [
    "## grouping customer data"
   ]
  },
  {
   "cell_type": "markdown",
   "id": "2fa20223",
   "metadata": {},
   "source": [
    "## removing outliers"
   ]
  },
  {
   "cell_type": "code",
   "execution_count": 61,
   "id": "fcc4653d",
   "metadata": {},
   "outputs": [],
   "source": [
    "Q1 = customer_data.quantile(0.25)\n",
    "Q3 = customer_data.quantile(0.75)\n",
    "IQR = Q3 - Q1\n",
    "outliers = ((customer_data < (Q1 - 1.5 * IQR)) | (customer_data > (Q3 + 1.5 * IQR))).any(axis=1)\n",
    "cleaned_data = customer_data[~outliers]"
   ]
  },
  {
   "cell_type": "code",
   "execution_count": 62,
   "id": "2fa8349d",
   "metadata": {
    "scrolled": false
   },
   "outputs": [
    {
     "data": {
      "text/html": [
       "<div>\n",
       "<style scoped>\n",
       "    .dataframe tbody tr th:only-of-type {\n",
       "        vertical-align: middle;\n",
       "    }\n",
       "\n",
       "    .dataframe tbody tr th {\n",
       "        vertical-align: top;\n",
       "    }\n",
       "\n",
       "    .dataframe thead th {\n",
       "        text-align: right;\n",
       "    }\n",
       "</style>\n",
       "<table border=\"1\" class=\"dataframe\">\n",
       "  <thead>\n",
       "    <tr style=\"text-align: right;\">\n",
       "      <th></th>\n",
       "      <th>InvoiceDate</th>\n",
       "      <th>Quantity</th>\n",
       "      <th>TotalPrice</th>\n",
       "      <th>Country</th>\n",
       "    </tr>\n",
       "    <tr>\n",
       "      <th>CustomerID</th>\n",
       "      <th></th>\n",
       "      <th></th>\n",
       "      <th></th>\n",
       "      <th></th>\n",
       "    </tr>\n",
       "  </thead>\n",
       "  <tbody>\n",
       "    <tr>\n",
       "      <th>12820.0</th>\n",
       "      <td>2</td>\n",
       "      <td>722</td>\n",
       "      <td>942.34</td>\n",
       "      <td>35</td>\n",
       "    </tr>\n",
       "    <tr>\n",
       "      <th>12821.0</th>\n",
       "      <td>213</td>\n",
       "      <td>70</td>\n",
       "      <td>92.72</td>\n",
       "      <td>35</td>\n",
       "    </tr>\n",
       "    <tr>\n",
       "      <th>12822.0</th>\n",
       "      <td>69</td>\n",
       "      <td>550</td>\n",
       "      <td>948.88</td>\n",
       "      <td>35</td>\n",
       "    </tr>\n",
       "    <tr>\n",
       "      <th>12823.0</th>\n",
       "      <td>73</td>\n",
       "      <td>230</td>\n",
       "      <td>1759.50</td>\n",
       "      <td>35</td>\n",
       "    </tr>\n",
       "    <tr>\n",
       "      <th>12824.0</th>\n",
       "      <td>58</td>\n",
       "      <td>232</td>\n",
       "      <td>397.12</td>\n",
       "      <td>35</td>\n",
       "    </tr>\n",
       "    <tr>\n",
       "      <th>...</th>\n",
       "      <td>...</td>\n",
       "      <td>...</td>\n",
       "      <td>...</td>\n",
       "      <td>...</td>\n",
       "    </tr>\n",
       "    <tr>\n",
       "      <th>18280.0</th>\n",
       "      <td>276</td>\n",
       "      <td>45</td>\n",
       "      <td>180.60</td>\n",
       "      <td>35</td>\n",
       "    </tr>\n",
       "    <tr>\n",
       "      <th>18281.0</th>\n",
       "      <td>179</td>\n",
       "      <td>54</td>\n",
       "      <td>80.82</td>\n",
       "      <td>35</td>\n",
       "    </tr>\n",
       "    <tr>\n",
       "      <th>18282.0</th>\n",
       "      <td>6</td>\n",
       "      <td>103</td>\n",
       "      <td>178.05</td>\n",
       "      <td>35</td>\n",
       "    </tr>\n",
       "    <tr>\n",
       "      <th>18283.0</th>\n",
       "      <td>2</td>\n",
       "      <td>1357</td>\n",
       "      <td>2045.53</td>\n",
       "      <td>35</td>\n",
       "    </tr>\n",
       "    <tr>\n",
       "      <th>18287.0</th>\n",
       "      <td>41</td>\n",
       "      <td>1586</td>\n",
       "      <td>1837.28</td>\n",
       "      <td>35</td>\n",
       "    </tr>\n",
       "  </tbody>\n",
       "</table>\n",
       "<p>3386 rows × 4 columns</p>\n",
       "</div>"
      ],
      "text/plain": [
       "            InvoiceDate  Quantity  TotalPrice  Country\n",
       "CustomerID                                            \n",
       "12820.0               2       722      942.34       35\n",
       "12821.0             213        70       92.72       35\n",
       "12822.0              69       550      948.88       35\n",
       "12823.0              73       230     1759.50       35\n",
       "12824.0              58       232      397.12       35\n",
       "...                 ...       ...         ...      ...\n",
       "18280.0             276        45      180.60       35\n",
       "18281.0             179        54       80.82       35\n",
       "18282.0               6       103      178.05       35\n",
       "18283.0               2      1357     2045.53       35\n",
       "18287.0              41      1586     1837.28       35\n",
       "\n",
       "[3386 rows x 4 columns]"
      ]
     },
     "execution_count": 62,
     "metadata": {},
     "output_type": "execute_result"
    }
   ],
   "source": [
    "cleaned_data"
   ]
  },
  {
   "cell_type": "code",
   "execution_count": 58,
   "id": "ab408cfc",
   "metadata": {
    "scrolled": true
   },
   "outputs": [
    {
     "data": {
      "text/html": [
       "<div>\n",
       "<style scoped>\n",
       "    .dataframe tbody tr th:only-of-type {\n",
       "        vertical-align: middle;\n",
       "    }\n",
       "\n",
       "    .dataframe tbody tr th {\n",
       "        vertical-align: top;\n",
       "    }\n",
       "\n",
       "    .dataframe thead th {\n",
       "        text-align: right;\n",
       "    }\n",
       "</style>\n",
       "<table border=\"1\" class=\"dataframe\">\n",
       "  <thead>\n",
       "    <tr style=\"text-align: right;\">\n",
       "      <th></th>\n",
       "      <th>InvoiceDate</th>\n",
       "      <th>Quantity</th>\n",
       "      <th>TotalPrice</th>\n",
       "      <th>Country</th>\n",
       "    </tr>\n",
       "    <tr>\n",
       "      <th>CustomerID</th>\n",
       "      <th></th>\n",
       "      <th></th>\n",
       "      <th></th>\n",
       "      <th></th>\n",
       "    </tr>\n",
       "  </thead>\n",
       "  <tbody>\n",
       "    <tr>\n",
       "      <th>12346.0</th>\n",
       "      <td>324</td>\n",
       "      <td>74215</td>\n",
       "      <td>77183.60</td>\n",
       "      <td>35</td>\n",
       "    </tr>\n",
       "    <tr>\n",
       "      <th>12347.0</th>\n",
       "      <td>1</td>\n",
       "      <td>2458</td>\n",
       "      <td>4310.00</td>\n",
       "      <td>16</td>\n",
       "    </tr>\n",
       "    <tr>\n",
       "      <th>12348.0</th>\n",
       "      <td>74</td>\n",
       "      <td>2341</td>\n",
       "      <td>1797.24</td>\n",
       "      <td>12</td>\n",
       "    </tr>\n",
       "    <tr>\n",
       "      <th>12349.0</th>\n",
       "      <td>17</td>\n",
       "      <td>631</td>\n",
       "      <td>1757.55</td>\n",
       "      <td>18</td>\n",
       "    </tr>\n",
       "    <tr>\n",
       "      <th>12350.0</th>\n",
       "      <td>309</td>\n",
       "      <td>197</td>\n",
       "      <td>334.40</td>\n",
       "      <td>24</td>\n",
       "    </tr>\n",
       "    <tr>\n",
       "      <th>...</th>\n",
       "      <td>...</td>\n",
       "      <td>...</td>\n",
       "      <td>...</td>\n",
       "      <td>...</td>\n",
       "    </tr>\n",
       "    <tr>\n",
       "      <th>18280.0</th>\n",
       "      <td>276</td>\n",
       "      <td>45</td>\n",
       "      <td>180.60</td>\n",
       "      <td>35</td>\n",
       "    </tr>\n",
       "    <tr>\n",
       "      <th>18281.0</th>\n",
       "      <td>179</td>\n",
       "      <td>54</td>\n",
       "      <td>80.82</td>\n",
       "      <td>35</td>\n",
       "    </tr>\n",
       "    <tr>\n",
       "      <th>18282.0</th>\n",
       "      <td>6</td>\n",
       "      <td>103</td>\n",
       "      <td>178.05</td>\n",
       "      <td>35</td>\n",
       "    </tr>\n",
       "    <tr>\n",
       "      <th>18283.0</th>\n",
       "      <td>2</td>\n",
       "      <td>1357</td>\n",
       "      <td>2045.53</td>\n",
       "      <td>35</td>\n",
       "    </tr>\n",
       "    <tr>\n",
       "      <th>18287.0</th>\n",
       "      <td>41</td>\n",
       "      <td>1586</td>\n",
       "      <td>1837.28</td>\n",
       "      <td>35</td>\n",
       "    </tr>\n",
       "  </tbody>\n",
       "</table>\n",
       "<p>4339 rows × 4 columns</p>\n",
       "</div>"
      ],
      "text/plain": [
       "            InvoiceDate  Quantity  TotalPrice  Country\n",
       "CustomerID                                            \n",
       "12346.0             324     74215    77183.60       35\n",
       "12347.0               1      2458     4310.00       16\n",
       "12348.0              74      2341     1797.24       12\n",
       "12349.0              17       631     1757.55       18\n",
       "12350.0             309       197      334.40       24\n",
       "...                 ...       ...         ...      ...\n",
       "18280.0             276        45      180.60       35\n",
       "18281.0             179        54       80.82       35\n",
       "18282.0               6       103      178.05       35\n",
       "18283.0               2      1357     2045.53       35\n",
       "18287.0              41      1586     1837.28       35\n",
       "\n",
       "[4339 rows x 4 columns]"
      ]
     },
     "execution_count": 58,
     "metadata": {},
     "output_type": "execute_result"
    }
   ],
   "source": [
    "customer_data = df2.groupby('CustomerID').agg({'InvoiceDate': lambda date: date.min(),\n",
    "                                    'Quantity': lambda num: num.sum(),\n",
    "                                    'TotalPrice': lambda num: num.sum(),\n",
    "                                    'Country': lambda num: num.mode()})                                  \n",
    "customer_data"
   ]
  },
  {
   "cell_type": "code",
   "execution_count": 59,
   "id": "274f2fe5",
   "metadata": {},
   "outputs": [
    {
     "name": "stdout",
     "output_type": "stream",
     "text": [
      "InvoiceDate    0\n",
      "Quantity       0\n",
      "TotalPrice     0\n",
      "Country        0\n",
      "dtype: int64\n"
     ]
    }
   ],
   "source": [
    "print(customer_data.isnull().sum())"
   ]
  },
  {
   "cell_type": "code",
   "execution_count": null,
   "id": "e1748ea6",
   "metadata": {},
   "outputs": [],
   "source": []
  },
  {
   "cell_type": "code",
   "execution_count": 2,
   "id": "98be9bd7",
   "metadata": {},
   "outputs": [
    {
     "ename": "ModuleNotFoundError",
     "evalue": "No module named 'tensorflow.python.distribute.distribution_strategy_context'",
     "output_type": "error",
     "traceback": [
      "\u001b[1;31m---------------------------------------------------------------------------\u001b[0m",
      "\u001b[1;31mModuleNotFoundError\u001b[0m                       Traceback (most recent call last)",
      "Input \u001b[1;32mIn [2]\u001b[0m, in \u001b[0;36m<cell line: 1>\u001b[1;34m()\u001b[0m\n\u001b[1;32m----> 1\u001b[0m \u001b[38;5;28;01mimport\u001b[39;00m \u001b[38;5;21;01mtensorflow\u001b[39;00m \u001b[38;5;28;01mas\u001b[39;00m \u001b[38;5;21;01mtf\u001b[39;00m\n\u001b[0;32m      2\u001b[0m \u001b[38;5;28;01mfrom\u001b[39;00m \u001b[38;5;21;01msklearn\u001b[39;00m\u001b[38;5;21;01m.\u001b[39;00m\u001b[38;5;21;01mmodel_selection\u001b[39;00m \u001b[38;5;28;01mimport\u001b[39;00m train_test_split\n\u001b[0;32m      3\u001b[0m \u001b[38;5;28;01mfrom\u001b[39;00m \u001b[38;5;21;01msklearn\u001b[39;00m \u001b[38;5;28;01mimport\u001b[39;00m preprocessing\n",
      "File \u001b[1;32m~\\AppData\\Roaming\\Python\\Python39\\site-packages\\tensorflow\\__init__.py:45\u001b[0m, in \u001b[0;36m<module>\u001b[1;34m\u001b[0m\n\u001b[0;32m     42\u001b[0m \u001b[38;5;28;01mfrom\u001b[39;00m \u001b[38;5;21;01mtensorflow\u001b[39;00m\u001b[38;5;21;01m.\u001b[39;00m\u001b[38;5;21;01mpython\u001b[39;00m \u001b[38;5;28;01mimport\u001b[39;00m tf2 \u001b[38;5;28;01mas\u001b[39;00m _tf2\n\u001b[0;32m     43\u001b[0m _tf2\u001b[38;5;241m.\u001b[39menable()\n\u001b[1;32m---> 45\u001b[0m \u001b[38;5;28;01mfrom\u001b[39;00m \u001b[38;5;21;01m.\u001b[39;00m\u001b[38;5;21;01m_api\u001b[39;00m\u001b[38;5;21;01m.\u001b[39;00m\u001b[38;5;21;01mv2\u001b[39;00m \u001b[38;5;28;01mimport\u001b[39;00m __internal__\n\u001b[0;32m     46\u001b[0m \u001b[38;5;28;01mfrom\u001b[39;00m \u001b[38;5;21;01m.\u001b[39;00m\u001b[38;5;21;01m_api\u001b[39;00m\u001b[38;5;21;01m.\u001b[39;00m\u001b[38;5;21;01mv2\u001b[39;00m \u001b[38;5;28;01mimport\u001b[39;00m __operators__\n\u001b[0;32m     47\u001b[0m \u001b[38;5;28;01mfrom\u001b[39;00m \u001b[38;5;21;01m.\u001b[39;00m\u001b[38;5;21;01m_api\u001b[39;00m\u001b[38;5;21;01m.\u001b[39;00m\u001b[38;5;21;01mv2\u001b[39;00m \u001b[38;5;28;01mimport\u001b[39;00m audio\n",
      "File \u001b[1;32m~\\AppData\\Roaming\\Python\\Python39\\site-packages\\tensorflow\\_api\\v2\\__internal__\\__init__.py:11\u001b[0m, in \u001b[0;36m<module>\u001b[1;34m\u001b[0m\n\u001b[0;32m      9\u001b[0m \u001b[38;5;28;01mfrom\u001b[39;00m \u001b[38;5;21;01m.\u001b[39;00m \u001b[38;5;28;01mimport\u001b[39;00m decorator\n\u001b[0;32m     10\u001b[0m \u001b[38;5;28;01mfrom\u001b[39;00m \u001b[38;5;21;01m.\u001b[39;00m \u001b[38;5;28;01mimport\u001b[39;00m dispatch\n\u001b[1;32m---> 11\u001b[0m \u001b[38;5;28;01mfrom\u001b[39;00m \u001b[38;5;21;01m.\u001b[39;00m \u001b[38;5;28;01mimport\u001b[39;00m distribute\n\u001b[0;32m     12\u001b[0m \u001b[38;5;28;01mfrom\u001b[39;00m \u001b[38;5;21;01m.\u001b[39;00m \u001b[38;5;28;01mimport\u001b[39;00m eager_context\n\u001b[0;32m     13\u001b[0m \u001b[38;5;28;01mfrom\u001b[39;00m \u001b[38;5;21;01m.\u001b[39;00m \u001b[38;5;28;01mimport\u001b[39;00m feature_column\n",
      "File \u001b[1;32m~\\AppData\\Roaming\\Python\\Python39\\site-packages\\tensorflow\\_api\\v2\\__internal__\\distribute\\__init__.py:11\u001b[0m, in \u001b[0;36m<module>\u001b[1;34m\u001b[0m\n\u001b[0;32m      9\u001b[0m \u001b[38;5;28;01mfrom\u001b[39;00m \u001b[38;5;21;01m.\u001b[39;00m \u001b[38;5;28;01mimport\u001b[39;00m interim\n\u001b[0;32m     10\u001b[0m \u001b[38;5;28;01mfrom\u001b[39;00m \u001b[38;5;21;01m.\u001b[39;00m \u001b[38;5;28;01mimport\u001b[39;00m multi_process_runner\n\u001b[1;32m---> 11\u001b[0m \u001b[38;5;28;01mfrom\u001b[39;00m \u001b[38;5;21;01mtensorflow\u001b[39;00m\u001b[38;5;21;01m.\u001b[39;00m\u001b[38;5;21;01mpython\u001b[39;00m\u001b[38;5;21;01m.\u001b[39;00m\u001b[38;5;21;01mdistribute\u001b[39;00m\u001b[38;5;21;01m.\u001b[39;00m\u001b[38;5;21;01mdistribution_strategy_context\u001b[39;00m \u001b[38;5;28;01mimport\u001b[39;00m variable_sync_on_read_context\n\u001b[0;32m     12\u001b[0m \u001b[38;5;28;01mfrom\u001b[39;00m \u001b[38;5;21;01mtensorflow\u001b[39;00m\u001b[38;5;21;01m.\u001b[39;00m\u001b[38;5;21;01mpython\u001b[39;00m\u001b[38;5;21;01m.\u001b[39;00m\u001b[38;5;21;01mdistribute\u001b[39;00m\u001b[38;5;21;01m.\u001b[39;00m\u001b[38;5;21;01mmerge_call_interim\u001b[39;00m \u001b[38;5;28;01mimport\u001b[39;00m strategy_supports_no_merge_call\n\u001b[0;32m     13\u001b[0m \u001b[38;5;28;01mfrom\u001b[39;00m \u001b[38;5;21;01mtensorflow\u001b[39;00m\u001b[38;5;21;01m.\u001b[39;00m\u001b[38;5;21;01mpython\u001b[39;00m\u001b[38;5;21;01m.\u001b[39;00m\u001b[38;5;21;01mdistribute\u001b[39;00m\u001b[38;5;21;01m.\u001b[39;00m\u001b[38;5;21;01msharded_variable\u001b[39;00m \u001b[38;5;28;01mimport\u001b[39;00m ShardedVariable\n",
      "\u001b[1;31mModuleNotFoundError\u001b[0m: No module named 'tensorflow.python.distribute.distribution_strategy_context'"
     ]
    }
   ],
   "source": [
    "import tensorflow as tf\n",
    "from sklearn.model_selection import train_test_split\n",
    "from sklearn import preprocessing\n",
    "from sklearn.preprocessing import LabelEncoder\n",
    "from sklearn.preprocessing import StandardScaler"
   ]
  },
  {
   "cell_type": "code",
   "execution_count": 57,
   "id": "71dcfe3e",
   "metadata": {},
   "outputs": [],
   "source": [
    "label_encoder = LabelEncoder()\n",
    "df2['StockCode'] = label_encoder.fit_transform(df2['StockCode'])\n",
    "df2['Country'] = label_encoder.fit_transform(df2['Country'])\n"
   ]
  },
  {
   "cell_type": "code",
   "execution_count": 28,
   "id": "2acb9c34",
   "metadata": {},
   "outputs": [
    {
     "data": {
      "text/html": [
       "<div>\n",
       "<style scoped>\n",
       "    .dataframe tbody tr th:only-of-type {\n",
       "        vertical-align: middle;\n",
       "    }\n",
       "\n",
       "    .dataframe tbody tr th {\n",
       "        vertical-align: top;\n",
       "    }\n",
       "\n",
       "    .dataframe thead th {\n",
       "        text-align: right;\n",
       "    }\n",
       "</style>\n",
       "<table border=\"1\" class=\"dataframe\">\n",
       "  <thead>\n",
       "    <tr style=\"text-align: right;\">\n",
       "      <th></th>\n",
       "      <th>StockCode</th>\n",
       "      <th>Quantity</th>\n",
       "      <th>InvoiceDate</th>\n",
       "      <th>UnitPrice</th>\n",
       "      <th>Country</th>\n",
       "      <th>TotalPrice</th>\n",
       "    </tr>\n",
       "  </thead>\n",
       "  <tbody>\n",
       "    <tr>\n",
       "      <th>0</th>\n",
       "      <td>2958</td>\n",
       "      <td>6</td>\n",
       "      <td>372</td>\n",
       "      <td>2.55</td>\n",
       "      <td>35</td>\n",
       "      <td>15.30</td>\n",
       "    </tr>\n",
       "    <tr>\n",
       "      <th>1</th>\n",
       "      <td>2412</td>\n",
       "      <td>6</td>\n",
       "      <td>372</td>\n",
       "      <td>3.39</td>\n",
       "      <td>35</td>\n",
       "      <td>20.34</td>\n",
       "    </tr>\n",
       "    <tr>\n",
       "      <th>2</th>\n",
       "      <td>2607</td>\n",
       "      <td>8</td>\n",
       "      <td>372</td>\n",
       "      <td>2.75</td>\n",
       "      <td>35</td>\n",
       "      <td>22.00</td>\n",
       "    </tr>\n",
       "    <tr>\n",
       "      <th>3</th>\n",
       "      <td>2559</td>\n",
       "      <td>6</td>\n",
       "      <td>372</td>\n",
       "      <td>3.39</td>\n",
       "      <td>35</td>\n",
       "      <td>20.34</td>\n",
       "    </tr>\n",
       "    <tr>\n",
       "      <th>4</th>\n",
       "      <td>2558</td>\n",
       "      <td>6</td>\n",
       "      <td>372</td>\n",
       "      <td>3.39</td>\n",
       "      <td>35</td>\n",
       "      <td>20.34</td>\n",
       "    </tr>\n",
       "  </tbody>\n",
       "</table>\n",
       "</div>"
      ],
      "text/plain": [
       "   StockCode  Quantity  InvoiceDate  UnitPrice  Country  TotalPrice\n",
       "0       2958         6          372       2.55       35       15.30\n",
       "1       2412         6          372       3.39       35       20.34\n",
       "2       2607         8          372       2.75       35       22.00\n",
       "3       2559         6          372       3.39       35       20.34\n",
       "4       2558         6          372       3.39       35       20.34"
      ]
     },
     "execution_count": 28,
     "metadata": {},
     "output_type": "execute_result"
    }
   ],
   "source": [
    "X=cleaned_data.drop(['CustomerID'],axis=1)\n",
    "y=cleaned_data['CustomerID']\n",
    "X.head()"
   ]
  },
  {
   "cell_type": "code",
   "execution_count": 29,
   "id": "d666f14c",
   "metadata": {},
   "outputs": [],
   "source": [
    "X_train,X_test,y_train,y_test=train_test_split(X,y,test_size=0.3)"
   ]
  },
  {
   "cell_type": "code",
   "execution_count": 33,
   "id": "31bd6477",
   "metadata": {},
   "outputs": [],
   "source": [
    "y_train=tf.convert_to_tensor(y_train)\n",
    "y_test=tf.convert_to_tensor(y_test)\n",
    "X_train=tf.convert_to_tensor(X_train)\n",
    "X_test=tf.convert_to_tensor(X_test)"
   ]
  },
  {
   "cell_type": "code",
   "execution_count": 30,
   "id": "bea43d45",
   "metadata": {
    "scrolled": true
   },
   "outputs": [],
   "source": [
    "X_train=X_train.astype(np.float32)\n",
    "X_test=X_test.astype(np.float32)"
   ]
  },
  {
   "cell_type": "code",
   "execution_count": 31,
   "id": "7951c96d",
   "metadata": {},
   "outputs": [
    {
     "data": {
      "text/html": [
       "<div>\n",
       "<style scoped>\n",
       "    .dataframe tbody tr th:only-of-type {\n",
       "        vertical-align: middle;\n",
       "    }\n",
       "\n",
       "    .dataframe tbody tr th {\n",
       "        vertical-align: top;\n",
       "    }\n",
       "\n",
       "    .dataframe thead th {\n",
       "        text-align: right;\n",
       "    }\n",
       "</style>\n",
       "<table border=\"1\" class=\"dataframe\">\n",
       "  <thead>\n",
       "    <tr style=\"text-align: right;\">\n",
       "      <th></th>\n",
       "      <th>StockCode</th>\n",
       "      <th>Quantity</th>\n",
       "      <th>InvoiceDate</th>\n",
       "      <th>UnitPrice</th>\n",
       "      <th>Country</th>\n",
       "      <th>TotalPrice</th>\n",
       "    </tr>\n",
       "  </thead>\n",
       "  <tbody>\n",
       "    <tr>\n",
       "      <th>325728</th>\n",
       "      <td>1867.0</td>\n",
       "      <td>10.0</td>\n",
       "      <td>95.0</td>\n",
       "      <td>1.65</td>\n",
       "      <td>35.0</td>\n",
       "      <td>16.50</td>\n",
       "    </tr>\n",
       "    <tr>\n",
       "      <th>192082</th>\n",
       "      <td>1629.0</td>\n",
       "      <td>2.0</td>\n",
       "      <td>206.0</td>\n",
       "      <td>0.65</td>\n",
       "      <td>35.0</td>\n",
       "      <td>1.30</td>\n",
       "    </tr>\n",
       "    <tr>\n",
       "      <th>231712</th>\n",
       "      <td>1397.0</td>\n",
       "      <td>12.0</td>\n",
       "      <td>172.0</td>\n",
       "      <td>1.95</td>\n",
       "      <td>35.0</td>\n",
       "      <td>23.40</td>\n",
       "    </tr>\n",
       "    <tr>\n",
       "      <th>275358</th>\n",
       "      <td>2793.0</td>\n",
       "      <td>24.0</td>\n",
       "      <td>139.0</td>\n",
       "      <td>1.25</td>\n",
       "      <td>35.0</td>\n",
       "      <td>30.00</td>\n",
       "    </tr>\n",
       "    <tr>\n",
       "      <th>404277</th>\n",
       "      <td>2564.0</td>\n",
       "      <td>4.0</td>\n",
       "      <td>51.0</td>\n",
       "      <td>2.95</td>\n",
       "      <td>35.0</td>\n",
       "      <td>11.80</td>\n",
       "    </tr>\n",
       "    <tr>\n",
       "      <th>...</th>\n",
       "      <td>...</td>\n",
       "      <td>...</td>\n",
       "      <td>...</td>\n",
       "      <td>...</td>\n",
       "      <td>...</td>\n",
       "      <td>...</td>\n",
       "    </tr>\n",
       "    <tr>\n",
       "      <th>118</th>\n",
       "      <td>375.0</td>\n",
       "      <td>1.0</td>\n",
       "      <td>372.0</td>\n",
       "      <td>1.95</td>\n",
       "      <td>35.0</td>\n",
       "      <td>1.95</td>\n",
       "    </tr>\n",
       "    <tr>\n",
       "      <th>89124</th>\n",
       "      <td>2854.0</td>\n",
       "      <td>12.0</td>\n",
       "      <td>297.0</td>\n",
       "      <td>1.45</td>\n",
       "      <td>10.0</td>\n",
       "      <td>17.40</td>\n",
       "    </tr>\n",
       "    <tr>\n",
       "      <th>472640</th>\n",
       "      <td>2056.0</td>\n",
       "      <td>10.0</td>\n",
       "      <td>22.0</td>\n",
       "      <td>0.79</td>\n",
       "      <td>35.0</td>\n",
       "      <td>7.90</td>\n",
       "    </tr>\n",
       "    <tr>\n",
       "      <th>283919</th>\n",
       "      <td>1774.0</td>\n",
       "      <td>2.0</td>\n",
       "      <td>132.0</td>\n",
       "      <td>5.75</td>\n",
       "      <td>35.0</td>\n",
       "      <td>11.50</td>\n",
       "    </tr>\n",
       "    <tr>\n",
       "      <th>94239</th>\n",
       "      <td>982.0</td>\n",
       "      <td>3.0</td>\n",
       "      <td>293.0</td>\n",
       "      <td>4.95</td>\n",
       "      <td>35.0</td>\n",
       "      <td>14.85</td>\n",
       "    </tr>\n",
       "  </tbody>\n",
       "</table>\n",
       "<p>225850 rows × 6 columns</p>\n",
       "</div>"
      ],
      "text/plain": [
       "        StockCode  Quantity  InvoiceDate  UnitPrice  Country  TotalPrice\n",
       "325728     1867.0      10.0         95.0       1.65     35.0       16.50\n",
       "192082     1629.0       2.0        206.0       0.65     35.0        1.30\n",
       "231712     1397.0      12.0        172.0       1.95     35.0       23.40\n",
       "275358     2793.0      24.0        139.0       1.25     35.0       30.00\n",
       "404277     2564.0       4.0         51.0       2.95     35.0       11.80\n",
       "...           ...       ...          ...        ...      ...         ...\n",
       "118         375.0       1.0        372.0       1.95     35.0        1.95\n",
       "89124      2854.0      12.0        297.0       1.45     10.0       17.40\n",
       "472640     2056.0      10.0         22.0       0.79     35.0        7.90\n",
       "283919     1774.0       2.0        132.0       5.75     35.0       11.50\n",
       "94239       982.0       3.0        293.0       4.95     35.0       14.85\n",
       "\n",
       "[225850 rows x 6 columns]"
      ]
     },
     "execution_count": 31,
     "metadata": {},
     "output_type": "execute_result"
    }
   ],
   "source": [
    "X_train"
   ]
  },
  {
   "cell_type": "code",
   "execution_count": 89,
   "id": "002d2788",
   "metadata": {},
   "outputs": [],
   "source": [
    "cleaned_data=cleaned_data.astype(np.float32)"
   ]
  },
  {
   "cell_type": "code",
   "execution_count": 53,
   "id": "e2b725f4",
   "metadata": {},
   "outputs": [],
   "source": [
    "cleaned_data=tf.convert_to_tensor(cleaned_data)"
   ]
  },
  {
   "cell_type": "code",
   "execution_count": 67,
   "id": "35d603c6",
   "metadata": {},
   "outputs": [
    {
     "data": {
      "text/plain": [
       "False"
      ]
     },
     "execution_count": 67,
     "metadata": {},
     "output_type": "execute_result"
    }
   ],
   "source": [
    "cleaned_data.empty"
   ]
  },
  {
   "cell_type": "code",
   "execution_count": 32,
   "id": "3096d2f2",
   "metadata": {},
   "outputs": [
    {
     "name": "stdout",
     "output_type": "stream",
     "text": [
      "Model: \"sequential\"\n",
      "_________________________________________________________________\n",
      " Layer (type)                Output Shape              Param #   \n",
      "=================================================================\n",
      " dense (Dense)               (None, 32)                224       \n",
      "                                                                 \n",
      " dense_1 (Dense)             (None, 1)                 33        \n",
      "                                                                 \n",
      "=================================================================\n",
      "Total params: 257 (1.00 KB)\n",
      "Trainable params: 257 (1.00 KB)\n",
      "Non-trainable params: 0 (0.00 Byte)\n",
      "_________________________________________________________________\n"
     ]
    }
   ],
   "source": [
    "from tensorflow.keras import layers\n",
    "from tensorflow.keras.models import Sequential\n",
    "model=Sequential()\n",
    "model.add(layers.Dense(32,activation='sigmoid',input_shape=(X_train.shape[1],)))\n",
    "model.add(layers.Dense(1,activation='linear'))\n",
    "model.summary()"
   ]
  },
  {
   "cell_type": "code",
   "execution_count": 34,
   "id": "2460628f",
   "metadata": {},
   "outputs": [
    {
     "name": "stdout",
     "output_type": "stream",
     "text": [
      "Epoch 1/20\n",
      "7058/7058 [==============================] - 23s 3ms/step - loss: 3009196.0000 - val_loss: 2937822.0000\n",
      "Epoch 2/20\n",
      "7058/7058 [==============================] - 22s 3ms/step - loss: 2940564.7500 - val_loss: 2959625.7500\n",
      "Epoch 3/20\n",
      "7058/7058 [==============================] - 23s 3ms/step - loss: 2941356.0000 - val_loss: 2924285.5000\n",
      "Epoch 4/20\n",
      "7058/7058 [==============================] - 22s 3ms/step - loss: 2941511.0000 - val_loss: 2922954.5000\n",
      "Epoch 5/20\n",
      "7058/7058 [==============================] - 22s 3ms/step - loss: 2941256.0000 - val_loss: 3028766.5000\n",
      "Epoch 6/20\n",
      "7058/7058 [==============================] - 23s 3ms/step - loss: 2941124.5000 - val_loss: 2923158.0000\n",
      "Epoch 7/20\n",
      "7058/7058 [==============================] - 22s 3ms/step - loss: 2942167.7500 - val_loss: 2929801.5000\n",
      "Epoch 8/20\n",
      "7058/7058 [==============================] - 22s 3ms/step - loss: 2940972.7500 - val_loss: 2945239.0000\n",
      "Epoch 9/20\n",
      "7058/7058 [==============================] - 23s 3ms/step - loss: 2941674.5000 - val_loss: 2941675.5000\n",
      "Epoch 10/20\n",
      "7058/7058 [==============================] - 22s 3ms/step - loss: 2942063.2500 - val_loss: 2923838.5000\n",
      "Epoch 11/20\n",
      "7058/7058 [==============================] - 22s 3ms/step - loss: 2942408.5000 - val_loss: 3123668.5000\n",
      "Epoch 12/20\n",
      "7058/7058 [==============================] - 23s 3ms/step - loss: 2942583.0000 - val_loss: 2982799.0000\n",
      "Epoch 13/20\n",
      "7058/7058 [==============================] - 22s 3ms/step - loss: 2941887.7500 - val_loss: 2986648.7500\n",
      "Epoch 14/20\n",
      "7058/7058 [==============================] - 22s 3ms/step - loss: 2942167.7500 - val_loss: 2942062.5000\n",
      "Epoch 15/20\n",
      "7058/7058 [==============================] - 23s 3ms/step - loss: 2941702.7500 - val_loss: 3050706.7500\n",
      "Epoch 16/20\n",
      "7058/7058 [==============================] - 22s 3ms/step - loss: 2942723.0000 - val_loss: 2962168.2500\n",
      "Epoch 17/20\n",
      "7058/7058 [==============================] - 23s 3ms/step - loss: 2942147.7500 - val_loss: 2927197.0000\n",
      "Epoch 18/20\n",
      "7058/7058 [==============================] - 22s 3ms/step - loss: 2941684.7500 - val_loss: 3002258.0000\n",
      "Epoch 19/20\n",
      "7058/7058 [==============================] - 22s 3ms/step - loss: 2942088.0000 - val_loss: 2928885.0000\n",
      "Epoch 20/20\n",
      "7058/7058 [==============================] - 23s 3ms/step - loss: 2941463.5000 - val_loss: 2923544.0000\n"
     ]
    },
    {
     "data": {
      "text/plain": [
       "<keras.src.callbacks.History at 0x18b0f8f7f10>"
      ]
     },
     "execution_count": 34,
     "metadata": {},
     "output_type": "execute_result"
    }
   ],
   "source": [
    "model.compile(optimizer='sgd', loss='mse')\n",
    "model.fit(X_train,y_train,validation_data=(X_test,y_test),epochs=20)"
   ]
  },
  {
   "cell_type": "code",
   "execution_count": 36,
   "id": "b4c5447f",
   "metadata": {},
   "outputs": [
    {
     "name": "stdout",
     "output_type": "stream",
     "text": [
      "3025/3025 [==============================] - 6s 2ms/step\n"
     ]
    },
    {
     "data": {
      "text/plain": [
       "array([[15363.202],\n",
       "       [15363.202],\n",
       "       [15363.202],\n",
       "       ...,\n",
       "       [15363.202],\n",
       "       [15363.202],\n",
       "       [15363.202]], dtype=float32)"
      ]
     },
     "execution_count": 36,
     "metadata": {},
     "output_type": "execute_result"
    }
   ],
   "source": [
    "pred=model.predict(X_test)\n",
    "pred"
   ]
  },
  {
   "cell_type": "code",
   "execution_count": 74,
   "id": "a57868f3",
   "metadata": {},
   "outputs": [],
   "source": [
    "from keras.layers import Input, Dense\n",
    "from keras.models import Model\n",
    "\n",
    "\n",
    "input_layer = Input(shape=(4,))\n",
    "encoded = Dense(4, activation='relu')(input_layer)\n",
    "decoded = Dense(4, activation='sigmoid')(encoded)\n",
    "\n",
    "autoencoder = Model(input_layer,decoded)\n",
    "autoencoder.compile(optimizer='sgd', loss='mse')\n"
   ]
  },
  {
   "cell_type": "code",
   "execution_count": 75,
   "id": "a83601b7",
   "metadata": {
    "scrolled": true
   },
   "outputs": [
    {
     "ename": "ValueError",
     "evalue": "Expected input data to be non-empty.",
     "output_type": "error",
     "traceback": [
      "\u001b[1;31m---------------------------------------------------------------------------\u001b[0m",
      "\u001b[1;31mValueError\u001b[0m                                Traceback (most recent call last)",
      "Input \u001b[1;32mIn [75]\u001b[0m, in \u001b[0;36m<cell line: 1>\u001b[1;34m()\u001b[0m\n\u001b[1;32m----> 1\u001b[0m \u001b[43mautoencoder\u001b[49m\u001b[38;5;241;43m.\u001b[39;49m\u001b[43mfit\u001b[49m\u001b[43m(\u001b[49m\u001b[43mcleaned_data\u001b[49m\u001b[43m,\u001b[49m\u001b[43mcleaned_data\u001b[49m\u001b[43m,\u001b[49m\u001b[43m \u001b[49m\u001b[43mepochs\u001b[49m\u001b[38;5;241;43m=\u001b[39;49m\u001b[38;5;241;43m100\u001b[39;49m\u001b[43m,\u001b[49m\u001b[43m \u001b[49m\u001b[43mbatch_size\u001b[49m\u001b[38;5;241;43m=\u001b[39;49m\u001b[38;5;241;43m256\u001b[39;49m\u001b[43m,\u001b[49m\u001b[43m \u001b[49m\u001b[43mshuffle\u001b[49m\u001b[38;5;241;43m=\u001b[39;49m\u001b[38;5;28;43;01mTrue\u001b[39;49;00m\u001b[43m,\u001b[49m\u001b[43m \u001b[49m\u001b[43mvalidation_split\u001b[49m\u001b[38;5;241;43m=\u001b[39;49m\u001b[38;5;241;43m0.3\u001b[39;49m\u001b[43m)\u001b[49m\n",
      "File \u001b[1;32m~\\AppData\\Roaming\\Python\\Python39\\site-packages\\keras\\src\\utils\\traceback_utils.py:70\u001b[0m, in \u001b[0;36mfilter_traceback.<locals>.error_handler\u001b[1;34m(*args, **kwargs)\u001b[0m\n\u001b[0;32m     67\u001b[0m     filtered_tb \u001b[38;5;241m=\u001b[39m _process_traceback_frames(e\u001b[38;5;241m.\u001b[39m__traceback__)\n\u001b[0;32m     68\u001b[0m     \u001b[38;5;66;03m# To get the full stack trace, call:\u001b[39;00m\n\u001b[0;32m     69\u001b[0m     \u001b[38;5;66;03m# `tf.debugging.disable_traceback_filtering()`\u001b[39;00m\n\u001b[1;32m---> 70\u001b[0m     \u001b[38;5;28;01mraise\u001b[39;00m e\u001b[38;5;241m.\u001b[39mwith_traceback(filtered_tb) \u001b[38;5;28;01mfrom\u001b[39;00m \u001b[38;5;28;01mNone\u001b[39;00m\n\u001b[0;32m     71\u001b[0m \u001b[38;5;28;01mfinally\u001b[39;00m:\n\u001b[0;32m     72\u001b[0m     \u001b[38;5;28;01mdel\u001b[39;00m filtered_tb\n",
      "File \u001b[1;32m~\\AppData\\Roaming\\Python\\Python39\\site-packages\\keras\\src\\engine\\data_adapter.py:1319\u001b[0m, in \u001b[0;36mDataHandler.__init__\u001b[1;34m(self, x, y, sample_weight, batch_size, steps_per_epoch, initial_epoch, epochs, shuffle, class_weight, max_queue_size, workers, use_multiprocessing, model, steps_per_execution, distribute, pss_evaluation_shards)\u001b[0m\n\u001b[0;32m   1314\u001b[0m \u001b[38;5;28mself\u001b[39m\u001b[38;5;241m.\u001b[39m_configure_dataset_and_inferred_steps(\n\u001b[0;32m   1315\u001b[0m     strategy, x, steps_per_epoch, class_weight, distribute\n\u001b[0;32m   1316\u001b[0m )\n\u001b[0;32m   1318\u001b[0m \u001b[38;5;28;01mif\u001b[39;00m \u001b[38;5;28mself\u001b[39m\u001b[38;5;241m.\u001b[39m_inferred_steps \u001b[38;5;241m==\u001b[39m \u001b[38;5;241m0\u001b[39m:\n\u001b[1;32m-> 1319\u001b[0m     \u001b[38;5;28;01mraise\u001b[39;00m \u001b[38;5;167;01mValueError\u001b[39;00m(\u001b[38;5;124m\"\u001b[39m\u001b[38;5;124mExpected input data to be non-empty.\u001b[39m\u001b[38;5;124m\"\u001b[39m)\n",
      "\u001b[1;31mValueError\u001b[0m: Expected input data to be non-empty."
     ]
    }
   ],
   "source": [
    "autoencoder.fit(cleaned_data,cleaned_data, epochs=100, batch_size=256, shuffle=True, validation_split=0.3)"
   ]
  },
  {
   "cell_type": "code",
   "execution_count": 76,
   "id": "4b10ad8f",
   "metadata": {},
   "outputs": [],
   "source": [
    "encoder = Model(input_layer, encoded)"
   ]
  },
  {
   "cell_type": "code",
   "execution_count": 77,
   "id": "7d6f564e",
   "metadata": {},
   "outputs": [
    {
     "name": "stdout",
     "output_type": "stream",
     "text": [
      "106/106 [==============================] - 1s 2ms/step\n"
     ]
    }
   ],
   "source": [
    "compressed_data = encoder.predict(cleaned_data)"
   ]
  },
  {
   "cell_type": "code",
   "execution_count": 74,
   "id": "050f332b",
   "metadata": {},
   "outputs": [
    {
     "data": {
      "text/plain": [
       "array([0, 1, 0, ..., 2, 2, 0])"
      ]
     },
     "execution_count": 74,
     "metadata": {},
     "output_type": "execute_result"
    }
   ],
   "source": [
    "clusters"
   ]
  },
  {
   "cell_type": "code",
   "execution_count": 84,
   "id": "083aac89",
   "metadata": {},
   "outputs": [],
   "source": [
    "from sklearn.cluster import KMeans\n",
    "\n",
    "kmeans = KMeans(n_clusters=3)\n",
    "clusters = kmeans.fit_predict(compressed_data)"
   ]
  },
  {
   "cell_type": "code",
   "execution_count": 85,
   "id": "249f5ea0",
   "metadata": {
    "scrolled": true
   },
   "outputs": [
    {
     "name": "stdout",
     "output_type": "stream",
     "text": [
      "Cluster 0:\n",
      "       InvoiceDate     Quantity   TotalPrice  Country  Segment\n",
      "count  2140.000000  2140.000000  2140.000000   2140.0   2140.0\n",
      "mean    110.884579   227.463551   370.684712     35.0      0.0\n",
      "std      95.615055   180.669709   210.106610      0.0      0.0\n",
      "min      -1.000000     1.000000     3.750000     35.0      0.0\n",
      "25%      29.000000   102.000000   193.292500     35.0      0.0\n",
      "50%      73.000000   185.500000   332.650000     35.0      0.0\n",
      "75%     185.000000   306.250000   534.972500     35.0      0.0\n",
      "max     325.000000  2019.000000   901.200000     35.0      0.0\n",
      "Cluster 1:\n",
      "       InvoiceDate     Quantity   TotalPrice  Country  Segment\n",
      "count   854.000000   854.000000   854.000000    854.0    854.0\n",
      "mean     55.189696   769.745902  1279.393478     35.0      1.0\n",
      "std      61.963432   333.698606   322.752448      0.0      0.0\n",
      "min      -1.000000     1.000000   676.200000     35.0      1.0\n",
      "25%      13.000000   524.250000  1007.332500     35.0      1.0\n",
      "50%      31.000000   721.500000  1234.020000     35.0      1.0\n",
      "75%      76.000000   948.750000  1535.212500     35.0      1.0\n",
      "max     315.000000  2100.000000  2033.100000     35.0      1.0\n",
      "Cluster 2:\n",
      "       InvoiceDate     Quantity   TotalPrice  Country  Segment\n",
      "count   392.000000   392.000000   392.000000    392.0    392.0\n",
      "mean     36.301020  1443.117347  2603.679161     35.0      2.0\n",
      "std      43.318734   387.490617   483.946929      0.0      0.0\n",
      "min      -1.000000   284.000000  1827.800000     35.0      2.0\n",
      "25%       7.000000  1160.000000  2197.612500     35.0      2.0\n",
      "50%      23.000000  1431.000000  2532.285000     35.0      2.0\n",
      "75%      50.250000  1747.500000  2966.547500     35.0      2.0\n",
      "max     305.000000  2221.000000  3677.020000     35.0      2.0\n"
     ]
    }
   ],
   "source": [
    "cleaned_data['Segment'] = clusters\n",
    "\n",
    "for cluster in np.unique(clusters):\n",
    "    print(f\"Cluster {cluster}:\")\n",
    "    print(cleaned_data[cleaned_data['Segment'] == cluster].describe())"
   ]
  },
  {
   "cell_type": "code",
   "execution_count": 104,
   "id": "0fefad7c",
   "metadata": {},
   "outputs": [],
   "source": [
    "cleaned_data['Segment'] = clusters"
   ]
  },
  {
   "cell_type": "code",
   "execution_count": 86,
   "id": "86c491da",
   "metadata": {},
   "outputs": [
    {
     "data": {
      "image/png": "[encoded data removed]",
      "text/plain": [
       "<Figure size 432x288 with 1 Axes>"
      ]
     },
     "metadata": {
      "needs_background": "light"
     },
     "output_type": "display_data"
    }
   ],
   "source": [
    "segment1 = cleaned_data[cleaned_data['Segment'] == 0]\n",
    "segment2 = cleaned_data[cleaned_data['Segment'] == 1]\n",
    "segment3 = cleaned_data[cleaned_data['Segment'] == 2]\n",
    "# segment4 = cleaned_data[cleaned_data['Segment'] == 3]\n",
    "plt.scatter(x=segment1['Quantity'], y=segment1['TotalPrice'], label=0, color='blue')\n",
    "plt.scatter(x=segment2['Quantity'], y=segment2['TotalPrice'], label=1, color='red')\n",
    "plt.scatter(x=segment3['Quantity'], y=segment3['TotalPrice'], label=2, color='yellow')\n",
    "# plt.scatter(x=segment4['Quantity'], y=segment4['TotalPrice'], label=3, color='green')\n",
    "plt.xlabel('Quantity')\n",
    "plt.ylabel('TotalPrice')\n",
    "plt.legend()\n",
    "\n",
    "plt.show()"
   ]
  },
  {
   "cell_type": "code",
   "execution_count": 87,
   "id": "81c77e5d",
   "metadata": {},
   "outputs": [
    {
     "data": {
      "text/html": [
       "<div>\n",
       "<style scoped>\n",
       "    .dataframe tbody tr th:only-of-type {\n",
       "        vertical-align: middle;\n",
       "    }\n",
       "\n",
       "    .dataframe tbody tr th {\n",
       "        vertical-align: top;\n",
       "    }\n",
       "\n",
       "    .dataframe thead tr th {\n",
       "        text-align: left;\n",
       "    }\n",
       "\n",
       "    .dataframe thead tr:last-of-type th {\n",
       "        text-align: right;\n",
       "    }\n",
       "</style>\n",
       "<table border=\"1\" class=\"dataframe\">\n",
       "  <thead>\n",
       "    <tr>\n",
       "      <th></th>\n",
       "      <th colspan=\"4\" halign=\"left\">InvoiceDate</th>\n",
       "      <th colspan=\"4\" halign=\"left\">Quantity</th>\n",
       "      <th colspan=\"4\" halign=\"left\">TotalPrice</th>\n",
       "    </tr>\n",
       "    <tr>\n",
       "      <th></th>\n",
       "      <th>count</th>\n",
       "      <th>mean</th>\n",
       "      <th>max</th>\n",
       "      <th>sum</th>\n",
       "      <th>count</th>\n",
       "      <th>mean</th>\n",
       "      <th>max</th>\n",
       "      <th>sum</th>\n",
       "      <th>count</th>\n",
       "      <th>mean</th>\n",
       "      <th>max</th>\n",
       "      <th>sum</th>\n",
       "    </tr>\n",
       "    <tr>\n",
       "      <th>Segment</th>\n",
       "      <th></th>\n",
       "      <th></th>\n",
       "      <th></th>\n",
       "      <th></th>\n",
       "      <th></th>\n",
       "      <th></th>\n",
       "      <th></th>\n",
       "      <th></th>\n",
       "      <th></th>\n",
       "      <th></th>\n",
       "      <th></th>\n",
       "      <th></th>\n",
       "    </tr>\n",
       "  </thead>\n",
       "  <tbody>\n",
       "    <tr>\n",
       "      <th>0</th>\n",
       "      <td>2140</td>\n",
       "      <td>110.884579</td>\n",
       "      <td>325</td>\n",
       "      <td>237293</td>\n",
       "      <td>2140</td>\n",
       "      <td>227.463551</td>\n",
       "      <td>2019</td>\n",
       "      <td>486772</td>\n",
       "      <td>2140</td>\n",
       "      <td>370.684712</td>\n",
       "      <td>901.20</td>\n",
       "      <td>793265.283</td>\n",
       "    </tr>\n",
       "    <tr>\n",
       "      <th>1</th>\n",
       "      <td>854</td>\n",
       "      <td>55.189696</td>\n",
       "      <td>315</td>\n",
       "      <td>47132</td>\n",
       "      <td>854</td>\n",
       "      <td>769.745902</td>\n",
       "      <td>2100</td>\n",
       "      <td>657363</td>\n",
       "      <td>854</td>\n",
       "      <td>1279.393478</td>\n",
       "      <td>2033.10</td>\n",
       "      <td>1092602.030</td>\n",
       "    </tr>\n",
       "    <tr>\n",
       "      <th>2</th>\n",
       "      <td>392</td>\n",
       "      <td>36.301020</td>\n",
       "      <td>305</td>\n",
       "      <td>14230</td>\n",
       "      <td>392</td>\n",
       "      <td>1443.117347</td>\n",
       "      <td>2221</td>\n",
       "      <td>565702</td>\n",
       "      <td>392</td>\n",
       "      <td>2603.679161</td>\n",
       "      <td>3677.02</td>\n",
       "      <td>1020642.231</td>\n",
       "    </tr>\n",
       "  </tbody>\n",
       "</table>\n",
       "</div>"
      ],
      "text/plain": [
       "        InvoiceDate                          Quantity                     \\\n",
       "              count        mean  max     sum    count         mean   max   \n",
       "Segment                                                                    \n",
       "0              2140  110.884579  325  237293     2140   227.463551  2019   \n",
       "1               854   55.189696  315   47132      854   769.745902  2100   \n",
       "2               392   36.301020  305   14230      392  1443.117347  2221   \n",
       "\n",
       "                TotalPrice                                     \n",
       "            sum      count         mean      max          sum  \n",
       "Segment                                                        \n",
       "0        486772       2140   370.684712   901.20   793265.283  \n",
       "1        657363        854  1279.393478  2033.10  1092602.030  \n",
       "2        565702        392  2603.679161  3677.02  1020642.231  "
      ]
     },
     "execution_count": 87,
     "metadata": {},
     "output_type": "execute_result"
    }
   ],
   "source": [
    "customer_seg = cleaned_data[['Segment','InvoiceDate','Quantity','TotalPrice']].groupby('Segment').agg(['count','mean','max','sum'])\n",
    "customer_seg"
   ]
  },
  {
   "cell_type": "code",
   "execution_count": 97,
   "id": "f8efb931",
   "metadata": {},
   "outputs": [
    {
     "data": {
      "text/html": [
       "<div>\n",
       "<style scoped>\n",
       "    .dataframe tbody tr th:only-of-type {\n",
       "        vertical-align: middle;\n",
       "    }\n",
       "\n",
       "    .dataframe tbody tr th {\n",
       "        vertical-align: top;\n",
       "    }\n",
       "\n",
       "    .dataframe thead th {\n",
       "        text-align: right;\n",
       "    }\n",
       "</style>\n",
       "<table border=\"1\" class=\"dataframe\">\n",
       "  <thead>\n",
       "    <tr style=\"text-align: right;\">\n",
       "      <th></th>\n",
       "      <th>StockCode</th>\n",
       "      <th>Quantity</th>\n",
       "      <th>InvoiceDate</th>\n",
       "      <th>UnitPrice</th>\n",
       "      <th>CustomerID</th>\n",
       "      <th>Country</th>\n",
       "      <th>TotalPrice</th>\n",
       "      <th>Segment</th>\n",
       "    </tr>\n",
       "  </thead>\n",
       "  <tbody>\n",
       "    <tr>\n",
       "      <th>count</th>\n",
       "      <td>95876.000000</td>\n",
       "      <td>95876.000000</td>\n",
       "      <td>95876.000000</td>\n",
       "      <td>95876.000000</td>\n",
       "      <td>95876.000000</td>\n",
       "      <td>95876.000000</td>\n",
       "      <td>95876.000000</td>\n",
       "      <td>95876.0</td>\n",
       "    </tr>\n",
       "    <tr>\n",
       "      <th>mean</th>\n",
       "      <td>1255.515137</td>\n",
       "      <td>6.732936</td>\n",
       "      <td>145.077179</td>\n",
       "      <td>2.142169</td>\n",
       "      <td>16210.892578</td>\n",
       "      <td>34.468941</td>\n",
       "      <td>10.474995</td>\n",
       "      <td>3.0</td>\n",
       "    </tr>\n",
       "    <tr>\n",
       "      <th>std</th>\n",
       "      <td>609.281433</td>\n",
       "      <td>6.483458</td>\n",
       "      <td>112.583176</td>\n",
       "      <td>1.500208</td>\n",
       "      <td>1231.551758</td>\n",
       "      <td>3.585658</td>\n",
       "      <td>8.562971</td>\n",
       "      <td>0.0</td>\n",
       "    </tr>\n",
       "    <tr>\n",
       "      <th>min</th>\n",
       "      <td>0.000000</td>\n",
       "      <td>1.000000</td>\n",
       "      <td>-1.000000</td>\n",
       "      <td>0.060000</td>\n",
       "      <td>12658.000000</td>\n",
       "      <td>0.000000</td>\n",
       "      <td>0.060000</td>\n",
       "      <td>3.0</td>\n",
       "    </tr>\n",
       "    <tr>\n",
       "      <th>25%</th>\n",
       "      <td>813.000000</td>\n",
       "      <td>2.000000</td>\n",
       "      <td>44.000000</td>\n",
       "      <td>1.250000</td>\n",
       "      <td>15241.000000</td>\n",
       "      <td>35.000000</td>\n",
       "      <td>3.320000</td>\n",
       "      <td>3.0</td>\n",
       "    </tr>\n",
       "    <tr>\n",
       "      <th>50%</th>\n",
       "      <td>1328.000000</td>\n",
       "      <td>4.000000</td>\n",
       "      <td>119.000000</td>\n",
       "      <td>1.650000</td>\n",
       "      <td>16362.000000</td>\n",
       "      <td>35.000000</td>\n",
       "      <td>8.400000</td>\n",
       "      <td>3.0</td>\n",
       "    </tr>\n",
       "    <tr>\n",
       "      <th>75%</th>\n",
       "      <td>1701.000000</td>\n",
       "      <td>10.000000</td>\n",
       "      <td>239.000000</td>\n",
       "      <td>2.950000</td>\n",
       "      <td>17228.000000</td>\n",
       "      <td>35.000000</td>\n",
       "      <td>15.300000</td>\n",
       "      <td>3.0</td>\n",
       "    </tr>\n",
       "    <tr>\n",
       "      <th>max</th>\n",
       "      <td>3022.000000</td>\n",
       "      <td>27.000000</td>\n",
       "      <td>372.000000</td>\n",
       "      <td>7.500000</td>\n",
       "      <td>18287.000000</td>\n",
       "      <td>36.000000</td>\n",
       "      <td>42.000000</td>\n",
       "      <td>3.0</td>\n",
       "    </tr>\n",
       "  </tbody>\n",
       "</table>\n",
       "</div>"
      ],
      "text/plain": [
       "          StockCode      Quantity   InvoiceDate     UnitPrice    CustomerID  \\\n",
       "count  95876.000000  95876.000000  95876.000000  95876.000000  95876.000000   \n",
       "mean    1255.515137      6.732936    145.077179      2.142169  16210.892578   \n",
       "std      609.281433      6.483458    112.583176      1.500208   1231.551758   \n",
       "min        0.000000      1.000000     -1.000000      0.060000  12658.000000   \n",
       "25%      813.000000      2.000000     44.000000      1.250000  15241.000000   \n",
       "50%     1328.000000      4.000000    119.000000      1.650000  16362.000000   \n",
       "75%     1701.000000     10.000000    239.000000      2.950000  17228.000000   \n",
       "max     3022.000000     27.000000    372.000000      7.500000  18287.000000   \n",
       "\n",
       "            Country    TotalPrice  Segment  \n",
       "count  95876.000000  95876.000000  95876.0  \n",
       "mean      34.468941     10.474995      3.0  \n",
       "std        3.585658      8.562971      0.0  \n",
       "min        0.000000      0.060000      3.0  \n",
       "25%       35.000000      3.320000      3.0  \n",
       "50%       35.000000      8.400000      3.0  \n",
       "75%       35.000000     15.300000      3.0  \n",
       "max       36.000000     42.000000      3.0  "
      ]
     },
     "execution_count": 97,
     "metadata": {},
     "output_type": "execute_result"
    }
   ],
   "source": [
    "cleaned_data[cleaned_data['Segment'] == cluster].describe()"
   ]
  },
  {
   "cell_type": "code",
   "execution_count": 81,
   "id": "cc51c089",
   "metadata": {
    "scrolled": true
   },
   "outputs": [
    {
     "data": {
      "text/html": [
       "<div>\n",
       "<style scoped>\n",
       "    .dataframe tbody tr th:only-of-type {\n",
       "        vertical-align: middle;\n",
       "    }\n",
       "\n",
       "    .dataframe tbody tr th {\n",
       "        vertical-align: top;\n",
       "    }\n",
       "\n",
       "    .dataframe thead th {\n",
       "        text-align: right;\n",
       "    }\n",
       "</style>\n",
       "<table border=\"1\" class=\"dataframe\">\n",
       "  <thead>\n",
       "    <tr style=\"text-align: right;\">\n",
       "      <th></th>\n",
       "      <th>InvoiceDate</th>\n",
       "      <th>Quantity</th>\n",
       "      <th>TotalPrice</th>\n",
       "      <th>Country</th>\n",
       "      <th>Segment</th>\n",
       "    </tr>\n",
       "    <tr>\n",
       "      <th>CustomerID</th>\n",
       "      <th></th>\n",
       "      <th></th>\n",
       "      <th></th>\n",
       "      <th></th>\n",
       "      <th></th>\n",
       "    </tr>\n",
       "  </thead>\n",
       "  <tbody>\n",
       "    <tr>\n",
       "      <th>12820.0</th>\n",
       "      <td>2</td>\n",
       "      <td>722</td>\n",
       "      <td>942.34</td>\n",
       "      <td>35</td>\n",
       "      <td>0</td>\n",
       "    </tr>\n",
       "    <tr>\n",
       "      <th>12821.0</th>\n",
       "      <td>213</td>\n",
       "      <td>70</td>\n",
       "      <td>92.72</td>\n",
       "      <td>35</td>\n",
       "      <td>2</td>\n",
       "    </tr>\n",
       "    <tr>\n",
       "      <th>12822.0</th>\n",
       "      <td>69</td>\n",
       "      <td>550</td>\n",
       "      <td>948.88</td>\n",
       "      <td>35</td>\n",
       "      <td>0</td>\n",
       "    </tr>\n",
       "    <tr>\n",
       "      <th>12823.0</th>\n",
       "      <td>73</td>\n",
       "      <td>230</td>\n",
       "      <td>1759.50</td>\n",
       "      <td>35</td>\n",
       "      <td>3</td>\n",
       "    </tr>\n",
       "    <tr>\n",
       "      <th>12824.0</th>\n",
       "      <td>58</td>\n",
       "      <td>232</td>\n",
       "      <td>397.12</td>\n",
       "      <td>35</td>\n",
       "      <td>2</td>\n",
       "    </tr>\n",
       "    <tr>\n",
       "      <th>...</th>\n",
       "      <td>...</td>\n",
       "      <td>...</td>\n",
       "      <td>...</td>\n",
       "      <td>...</td>\n",
       "      <td>...</td>\n",
       "    </tr>\n",
       "    <tr>\n",
       "      <th>18280.0</th>\n",
       "      <td>276</td>\n",
       "      <td>45</td>\n",
       "      <td>180.60</td>\n",
       "      <td>35</td>\n",
       "      <td>2</td>\n",
       "    </tr>\n",
       "    <tr>\n",
       "      <th>18281.0</th>\n",
       "      <td>179</td>\n",
       "      <td>54</td>\n",
       "      <td>80.82</td>\n",
       "      <td>35</td>\n",
       "      <td>2</td>\n",
       "    </tr>\n",
       "    <tr>\n",
       "      <th>18282.0</th>\n",
       "      <td>6</td>\n",
       "      <td>103</td>\n",
       "      <td>178.05</td>\n",
       "      <td>35</td>\n",
       "      <td>2</td>\n",
       "    </tr>\n",
       "    <tr>\n",
       "      <th>18283.0</th>\n",
       "      <td>2</td>\n",
       "      <td>1357</td>\n",
       "      <td>2045.53</td>\n",
       "      <td>35</td>\n",
       "      <td>3</td>\n",
       "    </tr>\n",
       "    <tr>\n",
       "      <th>18287.0</th>\n",
       "      <td>41</td>\n",
       "      <td>1586</td>\n",
       "      <td>1837.28</td>\n",
       "      <td>35</td>\n",
       "      <td>3</td>\n",
       "    </tr>\n",
       "  </tbody>\n",
       "</table>\n",
       "<p>3386 rows × 5 columns</p>\n",
       "</div>"
      ],
      "text/plain": [
       "            InvoiceDate  Quantity  TotalPrice  Country  Segment\n",
       "CustomerID                                                     \n",
       "12820.0               2       722      942.34       35        0\n",
       "12821.0             213        70       92.72       35        2\n",
       "12822.0              69       550      948.88       35        0\n",
       "12823.0              73       230     1759.50       35        3\n",
       "12824.0              58       232      397.12       35        2\n",
       "...                 ...       ...         ...      ...      ...\n",
       "18280.0             276        45      180.60       35        2\n",
       "18281.0             179        54       80.82       35        2\n",
       "18282.0               6       103      178.05       35        2\n",
       "18283.0               2      1357     2045.53       35        3\n",
       "18287.0              41      1586     1837.28       35        3\n",
       "\n",
       "[3386 rows x 5 columns]"
      ]
     },
     "execution_count": 81,
     "metadata": {},
     "output_type": "execute_result"
    }
   ],
   "source": [
    "cleaned_data"
   ]
  },
  {
   "cell_type": "markdown",
   "id": "b46bf066",
   "metadata": {},
   "source": [
    "# Customer Segmentation by PCA & KMeans"
   ]
  },
  {
   "cell_type": "markdown",
   "id": "25eb3fb3",
   "metadata": {},
   "source": [
    "## evaluating models"
   ]
  },
  {
   "cell_type": "markdown",
   "id": "63a4238a",
   "metadata": {},
   "source": [
    "# EDA after Segmentation"
   ]
  },
  {
   "cell_type": "markdown",
   "id": "9fccabd7",
   "metadata": {},
   "source": [
    "# Conclusions\n",
    "## segment 1 are 60% of all customers & 24% of all quantity & 25% of all profits\n",
    "## segment 0 are 27% of all customers & 38% of all quantity & 36% of all profits\n",
    "## segment 2 are 13% of all customers & 36% of all quantity & 37% of all profits\n"
   ]
  },
  {
   "cell_type": "code",
   "execution_count": null,
   "id": "ce8249f5",
   "metadata": {},
   "outputs": [],
   "source": []
  },
  {
   "cell_type": "code",
   "execution_count": null,
   "id": "be7c43d5",
   "metadata": {},
   "outputs": [],
   "source": []
  },
  {
   "cell_type": "code",
   "execution_count": null,
   "id": "96cbdab6",
   "metadata": {},
   "outputs": [],
   "source": []
  }
 ],
 "metadata": {
  "kernelspec": {
   "display_name": "Python 3 (ipykernel)",
   "language": "python",
   "name": "python3"
  },
  "language_info": {
   "codemirror_mode": {
    "name": "ipython",
    "version": 3
   },
   "file_extension": ".py",
   "mimetype": "text/x-python",
   "name": "python",
   "nbconvert_exporter": "python",
   "pygments_lexer": "ipython3",
   "version": "3.9.12"
  }
 },
 "nbformat": 4,
 "nbformat_minor": 5
}
